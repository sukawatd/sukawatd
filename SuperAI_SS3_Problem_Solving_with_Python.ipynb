{
  "nbformat": 4,
  "nbformat_minor": 0,
  "metadata": {
    "colab": {
      "provenance": [],
      "collapsed_sections": [
        "jDxjvtEEM1vg",
        "6X4WJo3iM6m9",
        "1FDs9zX6mpoX",
        "7Jt6T3kJ8I2T",
        "dYM-oV1jD3RV"
      ],
      "toc_visible": true,
      "include_colab_link": true
    },
    "kernelspec": {
      "name": "python3",
      "display_name": "Python 3"
    },
    "gpuClass": "standard"
  },
  "cells": [
    {
      "cell_type": "markdown",
      "metadata": {
        "id": "view-in-github",
        "colab_type": "text"
      },
      "source": [
        "<a href=\"https://colab.research.google.com/github/sukawatd/sukawatd/blob/main/SuperAI_SS3_Problem_Solving_with_Python.ipynb\" target=\"_parent\"><img src=\"https://colab.research.google.com/assets/colab-badge.svg\" alt=\"Open In Colab\"/></a>"
      ]
    },
    {
      "cell_type": "markdown",
      "metadata": {
        "id": "zbJ2fw29OHAX"
      },
      "source": [
        "Notebook prepared by Sattaya Singkul.\n",
        "\n",
        "For more information, please contact: sattaya.sin@speechance-tech.com\n",
        "or https://www.linkedin.com/in/sattaya-singkul/"
      ]
    },
    {
      "cell_type": "markdown",
      "metadata": {
        "id": "JbVT11Y8CbAu"
      },
      "source": [
        "# Welcome"
      ]
    },
    {
      "cell_type": "markdown",
      "source": [
        "In this tutorial, we will cover:\n",
        "\n",
        "* Basic Python: Basic data types, Functions, Classes\n",
        "* (Optional) Numpy: Arrays, Array indexing, Datatypes, Array math, Broadcasting\n",
        "* (OPtional) Matplotlib: Plotting, Subplots, Images"
      ],
      "metadata": {
        "id": "s-YXN-5-c2Pn"
      }
    },
    {
      "cell_type": "markdown",
      "metadata": {
        "id": "YV4sYCn8EPwb"
      },
      "source": [
        "# Notebooks"
      ]
    },
    {
      "cell_type": "markdown",
      "metadata": {
        "id": "2HuuwOcQEYQI"
      },
      "source": [
        "This week, we will use Jupyter notebooks and Google colab as the primary way to practice machine learning. Notebooks are a great way to mix executable code with rich contents (HTML, images, equations written in LaTeX). Colab allows to run notebooks on the cloud for free without any prior installation, while leveraging the power of [GPUs](https://en.wikipedia.org/wiki/Graphics_processing_unit)."
      ]
    },
    {
      "cell_type": "markdown",
      "metadata": {
        "id": "t0XmMkPuGGOs"
      },
      "source": [
        "The document that you are reading is not a static web page, but an interactive environment called a notebook, that lets you write and execute code. Notebooks consist of so-called code cells, blocks of one or more Python instructions. For example, here is a code cell that stores the result of a computation (the number of seconds in a day) in a variable and prints its value:"
      ]
    },
    {
      "cell_type": "code",
      "metadata": {
        "id": "qeGAvLq1ALJ4",
        "colab": {
          "base_uri": "https://localhost:8080/"
        },
        "outputId": "c10d7a0d-a21f-43bd-ea79-f9acd3efccf4"
      },
      "source": [
        "seconds_in_a_day = 24 * 60 * 60\n",
        "seconds_in_a_day"
      ],
      "execution_count": null,
      "outputs": [
        {
          "output_type": "execute_result",
          "data": {
            "text/plain": [
              "86400"
            ]
          },
          "metadata": {},
          "execution_count": 2
        }
      ]
    },
    {
      "cell_type": "markdown",
      "metadata": {
        "id": "njoPs3q1G75-"
      },
      "source": [
        "Click on the \"play\" button to execute the cell. You should be able to see the result. Alternatively, you can also execute the cell by pressing Ctrl + Enter if you are on Windows / Linux or Command + Enter if you are on a Mac."
      ]
    },
    {
      "cell_type": "markdown",
      "metadata": {
        "id": "NvdYaBgHHdbw"
      },
      "source": [
        "Variables that you defined in one cell can later be used in other cells:"
      ]
    },
    {
      "cell_type": "code",
      "metadata": {
        "id": "s1kp5Zv0JBSx",
        "colab": {
          "base_uri": "https://localhost:8080/"
        },
        "outputId": "a5491a27-5c56-4053-ae46-8cf0e07fb4e7"
      },
      "source": [
        "seconds_in_a_week = 7 * seconds_in_a_day\n",
        "seconds_in_a_week"
      ],
      "execution_count": null,
      "outputs": [
        {
          "output_type": "execute_result",
          "data": {
            "text/plain": [
              "604800"
            ]
          },
          "metadata": {},
          "execution_count": 3
        }
      ]
    },
    {
      "cell_type": "markdown",
      "metadata": {
        "id": "uALfY4q1JFQ0"
      },
      "source": [
        "Note that the order of execution is important. For instance, if we do not run the cell storing *seconds_in_a_day* beforehand, the above cell will raise an error, as it depends on this variable. To make sure that you run all the cells in the correct order, you can also click on \"Runtime\" in the top-level menu, then \"Run all\"."
      ]
    },
    {
      "cell_type": "markdown",
      "metadata": {
        "id": "HvXs_KaoRWQ9"
      },
      "source": [
        "**Exercise.** Add a cell below this cell: click on this cell then click on \"+ Code\". In the new cell, compute the number of seconds in a year by reusing the variable *seconds_in_a_day*. Run the new cell."
      ]
    },
    {
      "cell_type": "markdown",
      "metadata": {
        "id": "qyLSwlxnJqXX"
      },
      "source": [
        "# Python"
      ]
    },
    {
      "cell_type": "markdown",
      "metadata": {
        "id": "3ltwm91eJyQM"
      },
      "source": [
        "Python is one of the most popular programming languages for machine learning, both in academia and in industry. As such, it is essential to learn this language for anyone interested in machine learning. In this section, we will review Python basics."
      ]
    },
    {
      "cell_type": "code",
      "source": [
        "x = 10\n",
        "x+10"
      ],
      "metadata": {
        "colab": {
          "base_uri": "https://localhost:8080/"
        },
        "id": "BpGr8gBvHCwo",
        "outputId": "21f52d0b-8d9f-43e4-d4c9-8b3c60b9a1aa"
      },
      "execution_count": null,
      "outputs": [
        {
          "output_type": "execute_result",
          "data": {
            "text/plain": [
              "20"
            ]
          },
          "metadata": {},
          "execution_count": 5
        }
      ]
    },
    {
      "cell_type": "code",
      "source": [
        "# directory to save/install python packages\n",
        "import pandas as pd\n",
        "pd.__file__"
      ],
      "metadata": {
        "id": "p2Dya1gNdKkj",
        "colab": {
          "base_uri": "https://localhost:8080/",
          "height": 36
        },
        "outputId": "3e1ad5b6-dbcf-4eb3-fa68-f47db468de52"
      },
      "execution_count": null,
      "outputs": [
        {
          "output_type": "execute_result",
          "data": {
            "text/plain": [
              "'/usr/local/lib/python3.7/dist-packages/pandas/__init__.py'"
            ],
            "application/vnd.google.colaboratory.intrinsic+json": {
              "type": "string"
            }
          },
          "metadata": {},
          "execution_count": 6
        }
      ]
    },
    {
      "cell_type": "markdown",
      "metadata": {
        "id": "3EKvP6jiMZ9H"
      },
      "source": [
        "## Arithmetic operations"
      ]
    },
    {
      "cell_type": "markdown",
      "metadata": {
        "id": "DDjs0-7YQ80h"
      },
      "source": [
        "Python supports the usual arithmetic operators: + (addition), * (multiplication), / (division), ** (power), // (integer division)."
      ]
    },
    {
      "cell_type": "code",
      "source": [
        "x = 100"
      ],
      "metadata": {
        "id": "CPvigeiWNrSc"
      },
      "execution_count": null,
      "outputs": []
    },
    {
      "cell_type": "code",
      "source": [
        "print(x)"
      ],
      "metadata": {
        "colab": {
          "base_uri": "https://localhost:8080/"
        },
        "id": "CGn58H7WIbtY",
        "outputId": "d9edff2b-d5de-48d2-97dd-a9264f1d236e"
      },
      "execution_count": null,
      "outputs": [
        {
          "output_type": "stream",
          "name": "stdout",
          "text": [
            "100\n"
          ]
        }
      ]
    },
    {
      "cell_type": "code",
      "source": [
        "print(x + 1)   # Addition\n",
        "print(x - 1)   # Subtraction\n",
        "print(x * 2)   # Multiplication\n",
        "print(x / 2)   # Division\n",
        "print(x ** 2)   # Exponentiation\n",
        "print(x // 2)   # Floor division\n",
        "print(x % 2)   # Modulus"
      ],
      "metadata": {
        "id": "aXyQ0pfidNc3",
        "colab": {
          "base_uri": "https://localhost:8080/"
        },
        "outputId": "35551f46-18d5-4839-c96d-dca41a704d89"
      },
      "execution_count": null,
      "outputs": [
        {
          "output_type": "stream",
          "name": "stdout",
          "text": [
            "101\n",
            "99\n",
            "200\n",
            "50.0\n",
            "10000\n",
            "50\n",
            "0\n"
          ]
        }
      ]
    },
    {
      "cell_type": "code",
      "source": [
        "type(x/2)"
      ],
      "metadata": {
        "colab": {
          "base_uri": "https://localhost:8080/"
        },
        "id": "h9lOFraxIppz",
        "outputId": "7a467cac-7fa2-4743-953c-a1034893ccbd"
      },
      "execution_count": null,
      "outputs": [
        {
          "output_type": "execute_result",
          "data": {
            "text/plain": [
              "float"
            ]
          },
          "metadata": {},
          "execution_count": 11
        }
      ]
    },
    {
      "cell_type": "code",
      "source": [
        "x = 100\n",
        "x = x+1\n",
        "x"
      ],
      "metadata": {
        "colab": {
          "base_uri": "https://localhost:8080/"
        },
        "id": "beemQZapJISl",
        "outputId": "321604a9-bbc8-4d95-9c84-4e29bb0d5d64"
      },
      "execution_count": null,
      "outputs": [
        {
          "output_type": "execute_result",
          "data": {
            "text/plain": [
              "101"
            ]
          },
          "metadata": {},
          "execution_count": 15
        }
      ]
    },
    {
      "cell_type": "code",
      "source": [
        "x += 1 # x = x+1\n",
        "print(x)\n",
        "x *= 2 # x = x*2\n",
        "print(x)"
      ],
      "metadata": {
        "id": "lsjzB8uNdQBo",
        "colab": {
          "base_uri": "https://localhost:8080/"
        },
        "outputId": "9d2c7f3b-201c-400d-cc65-fcbf8c8880b2"
      },
      "execution_count": null,
      "outputs": [
        {
          "output_type": "stream",
          "name": "stdout",
          "text": [
            "102\n",
            "204\n"
          ]
        }
      ]
    },
    {
      "cell_type": "code",
      "source": [
        "y = 2.5\n",
        "print(type(y)) # float\n",
        "print(y, \"\\n\", y + 1, y * 2, y ** 2)"
      ],
      "metadata": {
        "id": "m8MPACvddTqD",
        "colab": {
          "base_uri": "https://localhost:8080/"
        },
        "outputId": "c09a4762-1a29-4868-d05b-40ac6ad6db7b"
      },
      "execution_count": null,
      "outputs": [
        {
          "output_type": "stream",
          "name": "stdout",
          "text": [
            "<class 'float'>\n",
            "2.5 \n",
            " 3.5 5.0 6.25\n"
          ]
        }
      ]
    },
    {
      "cell_type": "code",
      "source": [
        "a = 3\n",
        "print(type(a)) # int\n",
        "print(a/3)\n",
        "print(type(a/3)) # float"
      ],
      "metadata": {
        "id": "bKIUKLGodVl4",
        "colab": {
          "base_uri": "https://localhost:8080/"
        },
        "outputId": "f49f1598-edf1-4257-c34f-1bb4ac63ca5a"
      },
      "execution_count": null,
      "outputs": [
        {
          "output_type": "stream",
          "name": "stdout",
          "text": [
            "<class 'int'>\n",
            "1.0\n",
            "<class 'float'>\n"
          ]
        }
      ]
    },
    {
      "cell_type": "code",
      "source": [
        "import math"
      ],
      "metadata": {
        "id": "vfTwbcKoLVIQ"
      },
      "execution_count": null,
      "outputs": []
    },
    {
      "cell_type": "code",
      "source": [
        "x = 26\n",
        "x = x/10\n",
        "round(x)*10"
      ],
      "metadata": {
        "colab": {
          "base_uri": "https://localhost:8080/"
        },
        "id": "99Gpa7rxLcDZ",
        "outputId": "b4e503cd-f5e9-419e-c587-491e5ead43ce"
      },
      "execution_count": null,
      "outputs": [
        {
          "output_type": "execute_result",
          "data": {
            "text/plain": [
              "30"
            ]
          },
          "metadata": {},
          "execution_count": 32
        }
      ]
    },
    {
      "cell_type": "code",
      "source": [
        "x = 200\n",
        "print(\"%05d\" % x)"
      ],
      "metadata": {
        "colab": {
          "base_uri": "https://localhost:8080/"
        },
        "id": "pdB9VD2wMYBv",
        "outputId": "b21b038d-5556-4742-cfec-12e7f6b8a325"
      },
      "execution_count": null,
      "outputs": [
        {
          "output_type": "stream",
          "name": "stdout",
          "text": [
            "00200\n"
          ]
        }
      ]
    },
    {
      "cell_type": "code",
      "source": [
        "int(2.9)"
      ],
      "metadata": {
        "colab": {
          "base_uri": "https://localhost:8080/"
        },
        "id": "hznzaNtAK1L6",
        "outputId": "64268fe1-5e78-46ab-f164-3510ca1fcc84"
      },
      "execution_count": null,
      "outputs": [
        {
          "output_type": "execute_result",
          "data": {
            "text/plain": [
              "2"
            ]
          },
          "metadata": {},
          "execution_count": 23
        }
      ]
    },
    {
      "cell_type": "code",
      "source": [
        "int(2.9), round(2.9)"
      ],
      "metadata": {
        "id": "61S2z0CJdXSd",
        "colab": {
          "base_uri": "https://localhost:8080/"
        },
        "outputId": "268e4823-6cf2-4974-badd-1b7881dc3d15"
      },
      "execution_count": null,
      "outputs": [
        {
          "output_type": "execute_result",
          "data": {
            "text/plain": [
              "(2, 3)"
            ]
          },
          "metadata": {},
          "execution_count": 22
        }
      ]
    },
    {
      "cell_type": "markdown",
      "source": [
        "Note that unlike many languages, Python does not have unary increment (x++) or decrement (x--) operators.\n",
        "\n",
        "Python also has built-in types for long integers and complex numbers; you can find all of the details in the [documentation](https://docs.python.org/3.7/library/stdtypes.html#numeric-types-int-float-long-complex)."
      ],
      "metadata": {
        "id": "kzqMkKH4dcgz"
      }
    },
    {
      "cell_type": "markdown",
      "source": [
        "## Boolean"
      ],
      "metadata": {
        "id": "2NvkX1vedi7i"
      }
    },
    {
      "cell_type": "markdown",
      "source": [
        "Python implements all of the usual operators for Boolean logic, but uses English words rather than symbols (`&&`, `||`, etc.):"
      ],
      "metadata": {
        "id": "3Tq0yPe6dq-l"
      }
    },
    {
      "cell_type": "code",
      "source": [
        "t = True\n",
        "f = False\n",
        "\n",
        "t, f = True, False"
      ],
      "metadata": {
        "id": "T1MS9dU6OPum"
      },
      "execution_count": null,
      "outputs": []
    },
    {
      "cell_type": "code",
      "source": [
        "t, f = True, False\n",
        "print(type(t))"
      ],
      "metadata": {
        "id": "G4pXz3EQdlso",
        "colab": {
          "base_uri": "https://localhost:8080/"
        },
        "outputId": "a1da9f6b-e024-4924-8ffe-e366e8d48981"
      },
      "execution_count": null,
      "outputs": [
        {
          "output_type": "stream",
          "name": "stdout",
          "text": [
            "<class 'bool'>\n"
          ]
        }
      ]
    },
    {
      "cell_type": "code",
      "source": [
        "x = 1\n",
        "x == 10"
      ],
      "metadata": {
        "colab": {
          "base_uri": "https://localhost:8080/"
        },
        "id": "NS7GrG61OmwG",
        "outputId": "7d136032-1af8-4701-cdb8-f51297251bc3"
      },
      "execution_count": null,
      "outputs": [
        {
          "output_type": "execute_result",
          "data": {
            "text/plain": [
              "False"
            ]
          },
          "metadata": {},
          "execution_count": 56
        }
      ]
    },
    {
      "cell_type": "code",
      "source": [
        "print(t and f) # Logical AND;\n",
        "print(t or f)  # Logical OR;\n",
        "print(not t)   # Logical NOT;\n",
        "print(t != f)  # Logical XOR;"
      ],
      "metadata": {
        "id": "6f2aG3opdnoS",
        "colab": {
          "base_uri": "https://localhost:8080/"
        },
        "outputId": "57098966-bee7-4064-d982-9fe6c0b941a8"
      },
      "execution_count": null,
      "outputs": [
        {
          "output_type": "stream",
          "name": "stdout",
          "text": [
            "False\n",
            "True\n",
            "False\n",
            "True\n"
          ]
        }
      ]
    },
    {
      "cell_type": "markdown",
      "metadata": {
        "id": "UhcbBQUiStHG"
      },
      "source": [
        "## Lists\n",
        "\n",
        "![image.png](data:image/png;base64,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)"
      ]
    },
    {
      "cell_type": "markdown",
      "metadata": {
        "id": "RkPn1IjNTCxA"
      },
      "source": [
        "Lists are a container type for ordered sequences of elements. Lists can be initialized empty"
      ]
    },
    {
      "cell_type": "code",
      "metadata": {
        "id": "OrnV1ySAPtHp",
        "colab": {
          "base_uri": "https://localhost:8080/"
        },
        "outputId": "739a023b-6895-4f88-8fe4-03786d098329"
      },
      "source": [
        "my_list = []\n",
        "my_list = list()\n",
        "print(my_list)"
      ],
      "execution_count": null,
      "outputs": [
        {
          "output_type": "stream",
          "name": "stdout",
          "text": [
            "[]\n"
          ]
        }
      ]
    },
    {
      "cell_type": "markdown",
      "metadata": {
        "id": "OwRqyYI9XnPK"
      },
      "source": [
        "or with some initial elements"
      ]
    },
    {
      "cell_type": "code",
      "metadata": {
        "id": "Uq5YTJ1JXpOX",
        "colab": {
          "base_uri": "https://localhost:8080/"
        },
        "outputId": "b068cfeb-b36c-431f-ed47-d7cab6f353c2"
      },
      "source": [
        "my_list = [1, 2, 3]\n",
        "my_list"
      ],
      "execution_count": null,
      "outputs": [
        {
          "output_type": "execute_result",
          "data": {
            "text/plain": [
              "[1, 2, 3]"
            ]
          },
          "metadata": {},
          "execution_count": 60
        }
      ]
    },
    {
      "cell_type": "markdown",
      "metadata": {
        "id": "Hk2WmojJXyyz"
      },
      "source": [
        "Lists have a dynamic size and elements can be added (appended) to them"
      ]
    },
    {
      "cell_type": "code",
      "metadata": {
        "id": "QFTNqiYiXxAh",
        "colab": {
          "base_uri": "https://localhost:8080/"
        },
        "outputId": "f40e8151-adb3-4647-f2e7-1e9332a0475f"
      },
      "source": [
        "my_list.append(4)\n",
        "my_list"
      ],
      "execution_count": null,
      "outputs": [
        {
          "output_type": "execute_result",
          "data": {
            "text/plain": [
              "[1, 2, 3, 4]"
            ]
          },
          "metadata": {},
          "execution_count": 61
        }
      ]
    },
    {
      "cell_type": "markdown",
      "metadata": {
        "id": "IUnJuqQ2Yhzw"
      },
      "source": [
        "We can access individual elements of a list (indexing starts from 0)"
      ]
    },
    {
      "cell_type": "code",
      "source": [
        "my_list[0]"
      ],
      "metadata": {
        "colab": {
          "base_uri": "https://localhost:8080/"
        },
        "id": "FiAipCY_R1zR",
        "outputId": "3dea4c1c-21ff-47b1-ac45-aa33b2076e17"
      },
      "execution_count": null,
      "outputs": [
        {
          "output_type": "execute_result",
          "data": {
            "text/plain": [
              "1"
            ]
          },
          "metadata": {},
          "execution_count": 62
        }
      ]
    },
    {
      "cell_type": "code",
      "metadata": {
        "id": "pyFxyZPVYpG_",
        "colab": {
          "base_uri": "https://localhost:8080/"
        },
        "outputId": "7db6a873-60df-43bb-f433-e985d720f06b"
      },
      "source": [
        "my_list[2]"
      ],
      "execution_count": null,
      "outputs": [
        {
          "output_type": "execute_result",
          "data": {
            "text/plain": [
              "3"
            ]
          },
          "metadata": {},
          "execution_count": 63
        }
      ]
    },
    {
      "cell_type": "code",
      "source": [
        "my_list = [1, 2, 3, 10, 2, 4, 8, 10, 12]\n",
        "my_list = [1.0, 2.0, 1, 7, \"str09\"]\n",
        "my_list[-1]"
      ],
      "metadata": {
        "colab": {
          "base_uri": "https://localhost:8080/"
        },
        "id": "wGuEJmaLSLG1",
        "outputId": "c212e872-320b-4d76-c1b3-52d1ff8cfa60"
      },
      "execution_count": null,
      "outputs": [
        {
          "output_type": "execute_result",
          "data": {
            "text/plain": [
              "12"
            ]
          },
          "metadata": {},
          "execution_count": 64
        }
      ]
    },
    {
      "cell_type": "markdown",
      "metadata": {
        "id": "hPMrIDYsdgMP"
      },
      "source": [
        "We can access \"slices\" of a list using `my_list[i:j]` where `i` is the start of the slice (again, indexing starts from 0) and `j` the end of the slice. For instance:"
      ]
    },
    {
      "cell_type": "code",
      "source": [
        "my_list[0:3]"
      ],
      "metadata": {
        "colab": {
          "base_uri": "https://localhost:8080/"
        },
        "id": "eRtxEIn4SpvK",
        "outputId": "13e61235-a796-423e-fac9-668fceaffe88"
      },
      "execution_count": null,
      "outputs": [
        {
          "output_type": "execute_result",
          "data": {
            "text/plain": [
              "[1, 2, 3]"
            ]
          },
          "metadata": {},
          "execution_count": 65
        }
      ]
    },
    {
      "cell_type": "code",
      "metadata": {
        "id": "Ichf9p0gd7tJ",
        "colab": {
          "base_uri": "https://localhost:8080/"
        },
        "outputId": "dafbe68e-71fe-4881-81d7-7ecf20a7cb28"
      },
      "source": [
        "my_list[1:3]"
      ],
      "execution_count": null,
      "outputs": [
        {
          "output_type": "execute_result",
          "data": {
            "text/plain": [
              "[2, 3]"
            ]
          },
          "metadata": {},
          "execution_count": 66
        }
      ]
    },
    {
      "cell_type": "markdown",
      "metadata": {
        "id": "KMbzH4tzQ9rI"
      },
      "source": [
        "Omitting the second index means that the slice shoud run until the end of the list"
      ]
    },
    {
      "cell_type": "code",
      "metadata": {
        "id": "O7wCthKnREKV",
        "colab": {
          "base_uri": "https://localhost:8080/"
        },
        "outputId": "b4f9a404-f4d4-45c4-f826-a557c52ccf8c"
      },
      "source": [
        "my_list[1:]"
      ],
      "execution_count": null,
      "outputs": [
        {
          "output_type": "execute_result",
          "data": {
            "text/plain": [
              "[2, 3, 10, 2, 4, 8, 10, 12]"
            ]
          },
          "metadata": {},
          "execution_count": 67
        }
      ]
    },
    {
      "cell_type": "markdown",
      "metadata": {
        "id": "C5Aeu7PUebrK"
      },
      "source": [
        "We can check if an element is in the list using `in`"
      ]
    },
    {
      "cell_type": "code",
      "metadata": {
        "id": "a_P5NCi-efvb",
        "colab": {
          "base_uri": "https://localhost:8080/"
        },
        "outputId": "2e2c8f66-3397-4f2f-925f-69dcd024cd38"
      },
      "source": [
        "2 in my_list"
      ],
      "execution_count": null,
      "outputs": [
        {
          "output_type": "execute_result",
          "data": {
            "text/plain": [
              "True"
            ]
          },
          "metadata": {},
          "execution_count": 70
        }
      ]
    },
    {
      "cell_type": "code",
      "source": [
        "my_list.index(2)"
      ],
      "metadata": {
        "colab": {
          "base_uri": "https://localhost:8080/"
        },
        "id": "M1xkfsLUTpnm",
        "outputId": "aadf7b8c-6c11-4cc7-8921-d58620833b84"
      },
      "execution_count": null,
      "outputs": [
        {
          "output_type": "execute_result",
          "data": {
            "text/plain": [
              "1"
            ]
          },
          "metadata": {},
          "execution_count": 71
        }
      ]
    },
    {
      "cell_type": "markdown",
      "metadata": {
        "id": "LypIsP5gkl10"
      },
      "source": [
        "The length of a list can be obtained using the `len` function"
      ]
    },
    {
      "cell_type": "code",
      "metadata": {
        "id": "ac0FMsaKkrWc",
        "colab": {
          "base_uri": "https://localhost:8080/"
        },
        "outputId": "487d1c74-78f2-4e15-cf54-63a9365eb9db"
      },
      "source": [
        "len(my_list)"
      ],
      "execution_count": null,
      "outputs": [
        {
          "output_type": "execute_result",
          "data": {
            "text/plain": [
              "9"
            ]
          },
          "metadata": {},
          "execution_count": 72
        }
      ]
    },
    {
      "cell_type": "code",
      "source": [
        "my_list[-1]"
      ],
      "metadata": {
        "colab": {
          "base_uri": "https://localhost:8080/"
        },
        "id": "i1UbBhyFUDn-",
        "outputId": "0c024fa5-7873-45f9-ff1f-12a243cf9a34"
      },
      "execution_count": null,
      "outputs": [
        {
          "output_type": "execute_result",
          "data": {
            "text/plain": [
              "12"
            ]
          },
          "metadata": {},
          "execution_count": 75
        }
      ]
    },
    {
      "cell_type": "code",
      "source": [
        "my_list.insert(-1, 13)"
      ],
      "metadata": {
        "id": "ypgW8ZeYUhpo"
      },
      "execution_count": null,
      "outputs": []
    },
    {
      "cell_type": "code",
      "source": [
        "my_list"
      ],
      "metadata": {
        "colab": {
          "base_uri": "https://localhost:8080/"
        },
        "id": "8EAdOjb3UryB",
        "outputId": "3d79383c-c4b7-4025-dbc9-8bd8d458cdc1"
      },
      "execution_count": null,
      "outputs": [
        {
          "output_type": "execute_result",
          "data": {
            "text/plain": [
              "[0, 1, 2, 3, 10, 2, 4, 8, 10, 13, 12]"
            ]
          },
          "metadata": {},
          "execution_count": 80
        }
      ]
    },
    {
      "cell_type": "code",
      "source": [
        "my_list[1:8]"
      ],
      "metadata": {
        "colab": {
          "base_uri": "https://localhost:8080/"
        },
        "id": "4eWzmTAxVXAC",
        "outputId": "76695646-2a43-4b78-91c6-89fe1e91f9ad"
      },
      "execution_count": null,
      "outputs": [
        {
          "output_type": "execute_result",
          "data": {
            "text/plain": [
              "[1, 2, 3, 10, 2, 4, 8]"
            ]
          },
          "metadata": {},
          "execution_count": 83
        }
      ]
    },
    {
      "cell_type": "code",
      "source": [
        "my_list[1:8:2]"
      ],
      "metadata": {
        "colab": {
          "base_uri": "https://localhost:8080/"
        },
        "id": "8OZDjDkzVOHw",
        "outputId": "b8add546-70b7-40af-f66e-f2ffacdebf32"
      },
      "execution_count": null,
      "outputs": [
        {
          "output_type": "execute_result",
          "data": {
            "text/plain": [
              "[1, 3, 2, 8]"
            ]
          },
          "metadata": {},
          "execution_count": 82
        }
      ]
    },
    {
      "cell_type": "code",
      "source": [
        "sorted(my_list)"
      ],
      "metadata": {
        "colab": {
          "base_uri": "https://localhost:8080/"
        },
        "id": "kXQEUw2WVukB",
        "outputId": "86394d3a-ea39-4c95-8f86-7104194feebf"
      },
      "execution_count": null,
      "outputs": [
        {
          "output_type": "execute_result",
          "data": {
            "text/plain": [
              "[0, 1, 2, 2, 3, 4, 8, 10, 10, 12, 13]"
            ]
          },
          "metadata": {},
          "execution_count": 85
        }
      ]
    },
    {
      "cell_type": "code",
      "source": [
        "my_list = [[0,7,2],[1,5,1]]\n",
        "sorted(my_list)"
      ],
      "metadata": {
        "colab": {
          "base_uri": "https://localhost:8080/"
        },
        "id": "ISA8dLj_WEcz",
        "outputId": "6eee65d4-577c-40cd-8ac8-f71472856f18"
      },
      "execution_count": null,
      "outputs": [
        {
          "output_type": "execute_result",
          "data": {
            "text/plain": [
              "[[0, 7, 2], [1, 5, 1]]"
            ]
          },
          "metadata": {},
          "execution_count": 86
        }
      ]
    },
    {
      "cell_type": "markdown",
      "metadata": {
        "id": "1c3RLStf7G2I"
      },
      "source": [
        "## Strings\n",
        "\n",
        "![image.png](data:image/png;base64,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)"
      ]
    },
    {
      "cell_type": "markdown",
      "metadata": {
        "id": "Jm6hZhgz7KhI"
      },
      "source": [
        "Strings are used to store text. They can delimited using either single quotes or double quotes"
      ]
    },
    {
      "cell_type": "code",
      "metadata": {
        "id": "cCma6Oj_7T8n"
      },
      "source": [
        "string1 = \"some text\"\n",
        "string2 = 'some other text'"
      ],
      "execution_count": null,
      "outputs": []
    },
    {
      "cell_type": "code",
      "source": [
        "string2"
      ],
      "metadata": {
        "colab": {
          "base_uri": "https://localhost:8080/",
          "height": 36
        },
        "id": "gGELURlJX68m",
        "outputId": "ee21057d-d9a9-47ea-d0c8-0678e573e6c1"
      },
      "execution_count": null,
      "outputs": [
        {
          "output_type": "execute_result",
          "data": {
            "text/plain": [
              "'some other text'"
            ],
            "application/vnd.google.colaboratory.intrinsic+json": {
              "type": "string"
            }
          },
          "metadata": {},
          "execution_count": 89
        }
      ]
    },
    {
      "cell_type": "markdown",
      "metadata": {
        "id": "Irr4xuWu7Znu"
      },
      "source": [
        "Strings behave similarly to lists. As such we can access individual elements in exactly the same way"
      ]
    },
    {
      "cell_type": "code",
      "metadata": {
        "id": "26_POhLO7iM3",
        "colab": {
          "base_uri": "https://localhost:8080/",
          "height": 36
        },
        "outputId": "f48aaab7-d9b0-47d8-a84f-9e1565b73bf4"
      },
      "source": [
        "string1[3]"
      ],
      "execution_count": null,
      "outputs": [
        {
          "output_type": "execute_result",
          "data": {
            "text/plain": [
              "'e'"
            ],
            "application/vnd.google.colaboratory.intrinsic+json": {
              "type": "string"
            }
          },
          "metadata": {},
          "execution_count": 90
        }
      ]
    },
    {
      "cell_type": "markdown",
      "metadata": {
        "id": "oA_UD0JV7oPw"
      },
      "source": [
        "and similarly for slices"
      ]
    },
    {
      "cell_type": "code",
      "metadata": {
        "id": "dcZFcLqQ7qCe",
        "colab": {
          "base_uri": "https://localhost:8080/",
          "height": 36
        },
        "outputId": "575085b3-b37d-4097-ee1b-acac6a43021e"
      },
      "source": [
        "string1[5:]"
      ],
      "execution_count": null,
      "outputs": [
        {
          "output_type": "execute_result",
          "data": {
            "text/plain": [
              "'text'"
            ],
            "application/vnd.google.colaboratory.intrinsic+json": {
              "type": "string"
            }
          },
          "metadata": {},
          "execution_count": 91
        }
      ]
    },
    {
      "cell_type": "markdown",
      "metadata": {
        "id": "hOQ_CIiu76YG"
      },
      "source": [
        "String concatenation is performed using the `+` operator"
      ]
    },
    {
      "cell_type": "code",
      "source": [
        "\"J\" + \"O\""
      ],
      "metadata": {
        "colab": {
          "base_uri": "https://localhost:8080/",
          "height": 36
        },
        "id": "agcfAIl_YVSq",
        "outputId": "611e2269-f3fd-4fd9-edd6-255cf172d9e6"
      },
      "execution_count": null,
      "outputs": [
        {
          "output_type": "execute_result",
          "data": {
            "text/plain": [
              "'JO'"
            ],
            "application/vnd.google.colaboratory.intrinsic+json": {
              "type": "string"
            }
          },
          "metadata": {},
          "execution_count": 92
        }
      ]
    },
    {
      "cell_type": "code",
      "metadata": {
        "id": "mxqNMKCY79_W",
        "colab": {
          "base_uri": "https://localhost:8080/",
          "height": 36
        },
        "outputId": "f73c0369-a1f2-4fba-d404-009011313ada"
      },
      "source": [
        "string1 + \" \" + string2"
      ],
      "execution_count": null,
      "outputs": [
        {
          "output_type": "execute_result",
          "data": {
            "text/plain": [
              "'some text some other text'"
            ],
            "application/vnd.google.colaboratory.intrinsic+json": {
              "type": "string"
            }
          },
          "metadata": {},
          "execution_count": 93
        }
      ]
    },
    {
      "cell_type": "code",
      "source": [
        "print(f\"{string1[0]} {string2}\")"
      ],
      "metadata": {
        "colab": {
          "base_uri": "https://localhost:8080/"
        },
        "id": "g9JVWSLYYmhC",
        "outputId": "345faa93-9a31-4534-f1fc-bdfc9eef96c3"
      },
      "execution_count": null,
      "outputs": [
        {
          "output_type": "stream",
          "name": "stdout",
          "text": [
            "s some other text\n"
          ]
        }
      ]
    },
    {
      "cell_type": "code",
      "source": [
        "print(\"{} {}\".format(string1, string2))"
      ],
      "metadata": {
        "id": "Ajd1Hxf6d2EI",
        "colab": {
          "base_uri": "https://localhost:8080/"
        },
        "outputId": "894521be-d5e8-4b88-fa30-7ec53e625562"
      },
      "execution_count": null,
      "outputs": [
        {
          "output_type": "stream",
          "name": "stdout",
          "text": [
            "some text some other text\n"
          ]
        }
      ]
    },
    {
      "cell_type": "code",
      "source": [
        "st = f\"{string1[0]} {string2}\"\n",
        "st"
      ],
      "metadata": {
        "colab": {
          "base_uri": "https://localhost:8080/",
          "height": 36
        },
        "id": "--s-93XWZXnZ",
        "outputId": "0d85bb67-1d40-498b-b046-e9fe0abcaf65"
      },
      "execution_count": null,
      "outputs": [
        {
          "output_type": "execute_result",
          "data": {
            "text/plain": [
              "'s some other text'"
            ],
            "application/vnd.google.colaboratory.intrinsic+json": {
              "type": "string"
            }
          },
          "metadata": {},
          "execution_count": 97
        }
      ]
    },
    {
      "cell_type": "code",
      "source": [
        "st = float(\"{:.2f}\".format(9.2654))\n",
        "st"
      ],
      "metadata": {
        "colab": {
          "base_uri": "https://localhost:8080/"
        },
        "id": "ABBVFlz7ZiDI",
        "outputId": "d57c7443-3878-4b06-92e9-142ba21d38ee"
      },
      "execution_count": null,
      "outputs": [
        {
          "output_type": "execute_result",
          "data": {
            "text/plain": [
              "9.27"
            ]
          },
          "metadata": {},
          "execution_count": 100
        }
      ]
    },
    {
      "cell_type": "code",
      "source": [
        "\"Jo\" * 10"
      ],
      "metadata": {
        "colab": {
          "base_uri": "https://localhost:8080/",
          "height": 36
        },
        "id": "xJCfvu4eaE39",
        "outputId": "f7c74df8-df9f-4b8f-9da5-8ea306715777"
      },
      "execution_count": null,
      "outputs": [
        {
          "output_type": "execute_result",
          "data": {
            "text/plain": [
              "'JoJoJoJoJoJoJoJoJoJo'"
            ],
            "application/vnd.google.colaboratory.intrinsic+json": {
              "type": "string"
            }
          },
          "metadata": {},
          "execution_count": 103
        }
      ]
    },
    {
      "cell_type": "markdown",
      "source": [
        "String objects have a bunch of useful methods; for example:"
      ],
      "metadata": {
        "id": "wkQPazIfeEHq"
      }
    },
    {
      "cell_type": "code",
      "source": [
        "s = \"hello\"\n",
        "print(f\"Capitalize: {s.capitalize()}\")  # Capitalize a string\n",
        "print(f\"Upper: {s.upper()}\")       # Convert a string to uppercase\n",
        "print(f\"Right-justify: {s.rjust(7)}\")      # Right-justify a string, padding with spaces\n",
        "print(f\"Center: {s.center(7)}\")     # Center a string, padding with spaces\n",
        "print(f\"Replaced: {s.replace('l', '(ell)')}\")  # Replace all instances of one substring with another\n",
        "print('  world '.strip())  # Strip leading and trailing whitespace"
      ],
      "metadata": {
        "id": "YenT2HzJeBFV",
        "colab": {
          "base_uri": "https://localhost:8080/"
        },
        "outputId": "955a4721-d7c8-49b8-9106-ebb53b6f4487"
      },
      "execution_count": null,
      "outputs": [
        {
          "output_type": "stream",
          "name": "stdout",
          "text": [
            "Capitalize: Hello\n",
            "Upper: HELLO\n",
            "Right-justify:   hello\n",
            "Center:  hello \n",
            "Replaced: he(ell)(ell)o\n",
            "world\n"
          ]
        }
      ]
    },
    {
      "cell_type": "code",
      "source": [
        "s = \"./music1.mp3\".replace(\".mp3\", \".wav\")\n",
        "s"
      ],
      "metadata": {
        "colab": {
          "base_uri": "https://localhost:8080/",
          "height": 36
        },
        "id": "5rkx-iknbiC3",
        "outputId": "46ca6cf9-dde7-4e4c-f235-1e9a2afbd4a8"
      },
      "execution_count": null,
      "outputs": [
        {
          "output_type": "execute_result",
          "data": {
            "text/plain": [
              "'./music1.wav'"
            ],
            "application/vnd.google.colaboratory.intrinsic+json": {
              "type": "string"
            }
          },
          "metadata": {},
          "execution_count": 107
        }
      ]
    },
    {
      "cell_type": "markdown",
      "metadata": {
        "id": "7Lox2GZCMdIB"
      },
      "source": [
        "## Conditionals"
      ]
    },
    {
      "cell_type": "markdown",
      "metadata": {
        "id": "-gXEAWFZfDTT"
      },
      "source": [
        "As their name indicates, conditionals are a way to execute code depending on whether a condition is True or False. As in other languages, Python supports `if` and `else` but `else if` is contracted into `elif`, as the example below demonstrates. "
      ]
    },
    {
      "cell_type": "code",
      "source": [
        "bool(0)"
      ],
      "metadata": {
        "colab": {
          "base_uri": "https://localhost:8080/"
        },
        "id": "s6XcYOYCdnju",
        "outputId": "3d84fe65-fe21-4cfd-8c94-d740a71ea595"
      },
      "execution_count": null,
      "outputs": [
        {
          "output_type": "execute_result",
          "data": {
            "text/plain": [
              "False"
            ]
          },
          "metadata": {},
          "execution_count": 122
        }
      ]
    },
    {
      "cell_type": "code",
      "source": [
        "import numpy as np\n",
        "np.nan # None, Nan, '', 'null'"
      ],
      "metadata": {
        "colab": {
          "base_uri": "https://localhost:8080/"
        },
        "id": "_9PvluSpegHG",
        "outputId": "c911bcd6-80e9-4b3b-f714-9867ae3b5a64"
      },
      "execution_count": null,
      "outputs": [
        {
          "output_type": "execute_result",
          "data": {
            "text/plain": [
              "nan"
            ]
          },
          "metadata": {},
          "execution_count": 132
        }
      ]
    },
    {
      "cell_type": "code",
      "source": [
        "x = None\n",
        "# x = 10\n",
        "if x: print(\"Yesssssss\")"
      ],
      "metadata": {
        "id": "3adYeabmdSfX"
      },
      "execution_count": null,
      "outputs": []
    },
    {
      "cell_type": "code",
      "metadata": {
        "id": "xC_DMZjofoYZ",
        "colab": {
          "base_uri": "https://localhost:8080/"
        },
        "outputId": "9b812156-b8ec-4b9b-86dd-d9f87f321782"
      },
      "source": [
        "my_variable = 2\n",
        "if my_variable > 0:\n",
        "  print(\"positive\")\n",
        "elif my_variable < 0:\n",
        "  print(\"negative\")\n",
        "elif my_variable == 0:\n",
        "  print(\"null\")\n",
        "else: # my_variable > 0\n",
        "  print(\"not in condition\")"
      ],
      "execution_count": null,
      "outputs": [
        {
          "output_type": "stream",
          "name": "stdout",
          "text": [
            "positive\n"
          ]
        }
      ]
    },
    {
      "cell_type": "markdown",
      "metadata": {
        "id": "Ag0SUokSf9jl"
      },
      "source": [
        "Here `<` and `>` are the strict `less` and `greater than` operators, while `==` is the equality operator (not to be confused with `=`, the variable assignment operator). The operators `<=` and `>=` can be used for less (resp. greater) than or equal comparisons."
      ]
    },
    {
      "cell_type": "markdown",
      "metadata": {
        "id": "qTkQ2F_jy8wz"
      },
      "source": [
        "Contrary to other languages, blocks of code are delimited using indentation. Here, we use 2-space indentation but many programmers also use 4-space indentation. Any one is fine as long as you are consistent throughout your code."
      ]
    },
    {
      "cell_type": "markdown",
      "metadata": {
        "id": "clWaFCzBMfkv"
      },
      "source": [
        "## Loops"
      ]
    },
    {
      "cell_type": "markdown",
      "metadata": {
        "id": "_A5doqhTivWe"
      },
      "source": [
        "Loops are a way to execute a block of code multiple times. There are two main types of loops: while loops and for loops."
      ]
    },
    {
      "cell_type": "markdown",
      "metadata": {
        "id": "YN8lwTxQkGEa"
      },
      "source": [
        "While loop"
      ]
    },
    {
      "cell_type": "code",
      "source": [
        "my_list = [0, 1, 2]\n",
        "len(my_list)"
      ],
      "metadata": {
        "colab": {
          "base_uri": "https://localhost:8080/"
        },
        "id": "R2P302HmfQz9",
        "outputId": "cb830b14-6935-4dc3-ec60-c36ff496ec9f"
      },
      "execution_count": null,
      "outputs": [
        {
          "output_type": "execute_result",
          "data": {
            "text/plain": [
              "3"
            ]
          },
          "metadata": {},
          "execution_count": 139
        }
      ]
    },
    {
      "cell_type": "code",
      "metadata": {
        "id": "7-QXGqgOjsr_",
        "colab": {
          "base_uri": "https://localhost:8080/"
        },
        "outputId": "77d20ebb-239c-42f0-c948-ecba1201ca6c"
      },
      "source": [
        "i = 0\n",
        "while i < len(my_list):\n",
        "  print(my_list[i])\n",
        "  i += 1 # equivalent to i = i + 1"
      ],
      "execution_count": null,
      "outputs": [
        {
          "output_type": "stream",
          "name": "stdout",
          "text": [
            "0\n",
            "1\n",
            "2\n"
          ]
        }
      ]
    },
    {
      "cell_type": "markdown",
      "metadata": {
        "id": "8mEI_ocfkSvZ"
      },
      "source": [
        "For loop"
      ]
    },
    {
      "cell_type": "code",
      "source": [
        "range(len(my_list))"
      ],
      "metadata": {
        "colab": {
          "base_uri": "https://localhost:8080/"
        },
        "id": "YxuBJkmJgP7X",
        "outputId": "8a546661-34bf-4639-c15d-dc94f6d35e0e"
      },
      "execution_count": null,
      "outputs": [
        {
          "output_type": "execute_result",
          "data": {
            "text/plain": [
              "range(0, 3)"
            ]
          },
          "metadata": {},
          "execution_count": 141
        }
      ]
    },
    {
      "cell_type": "code",
      "metadata": {
        "id": "2QObx5mckMcI",
        "colab": {
          "base_uri": "https://localhost:8080/"
        },
        "outputId": "3c96d9af-d410-4eb5-c658-94ef6d4faf63"
      },
      "source": [
        "for i in range(len(my_list)):\n",
        "  print(my_list[i])"
      ],
      "execution_count": null,
      "outputs": [
        {
          "output_type": "stream",
          "name": "stdout",
          "text": [
            "0\n",
            "1\n",
            "2\n"
          ]
        }
      ]
    },
    {
      "cell_type": "code",
      "source": [
        "from tqdm import tqdm\n",
        "for i in tqdm(range(100000000)):\n",
        "  pass"
      ],
      "metadata": {
        "colab": {
          "base_uri": "https://localhost:8080/",
          "height": 217
        },
        "id": "T-i9ZEnxgv9j",
        "outputId": "bfbcb110-5c90-4014-c5db-54181a7a7baf"
      },
      "execution_count": null,
      "outputs": [
        {
          "output_type": "stream",
          "name": "stderr",
          "text": [
            " 59%|█████▉    | 59145552/100000000 [00:16<00:11, 3632517.57it/s]\n"
          ]
        },
        {
          "output_type": "error",
          "ename": "KeyboardInterrupt",
          "evalue": "ignored",
          "traceback": [
            "\u001b[0;31m---------------------------------------------------------------------------\u001b[0m",
            "\u001b[0;31mKeyboardInterrupt\u001b[0m                         Traceback (most recent call last)",
            "\u001b[0;32m<ipython-input-146-f74edd90a79e>\u001b[0m in \u001b[0;36m<module>\u001b[0;34m\u001b[0m\n\u001b[1;32m      1\u001b[0m \u001b[0;32mfrom\u001b[0m \u001b[0mtqdm\u001b[0m \u001b[0;32mimport\u001b[0m \u001b[0mtqdm\u001b[0m\u001b[0;34m\u001b[0m\u001b[0;34m\u001b[0m\u001b[0m\n\u001b[0;32m----> 2\u001b[0;31m \u001b[0;32mfor\u001b[0m \u001b[0mi\u001b[0m \u001b[0;32min\u001b[0m \u001b[0mtqdm\u001b[0m\u001b[0;34m(\u001b[0m\u001b[0mrange\u001b[0m\u001b[0;34m(\u001b[0m\u001b[0;36m100000000\u001b[0m\u001b[0;34m)\u001b[0m\u001b[0;34m)\u001b[0m\u001b[0;34m:\u001b[0m\u001b[0;34m\u001b[0m\u001b[0;34m\u001b[0m\u001b[0m\n\u001b[0m\u001b[1;32m      3\u001b[0m   \u001b[0;32mpass\u001b[0m\u001b[0;34m\u001b[0m\u001b[0;34m\u001b[0m\u001b[0m\n",
            "\u001b[0;31mKeyboardInterrupt\u001b[0m: "
          ]
        }
      ]
    },
    {
      "cell_type": "code",
      "source": [
        "count = 0\n",
        "for i in ['sattaya', 'santhong']:\n",
        "  count += 1\n",
        "  print(count, i)"
      ],
      "metadata": {
        "colab": {
          "base_uri": "https://localhost:8080/"
        },
        "id": "21G-XjxJhmj9",
        "outputId": "4213802c-295c-445f-dc29-b14da730aa97"
      },
      "execution_count": null,
      "outputs": [
        {
          "output_type": "stream",
          "name": "stdout",
          "text": [
            "1 sattaya\n",
            "2 santhong\n"
          ]
        }
      ]
    },
    {
      "cell_type": "code",
      "source": [
        "for count, i in enumerate(['sattaya', 'santhong']):\n",
        "  print(\"Round I: \", count+1, i)\n",
        "  for idx, char in enumerate(i):\n",
        "    if char == 'y': print(f\"y is here {idx}\")"
      ],
      "metadata": {
        "colab": {
          "base_uri": "https://localhost:8080/"
        },
        "id": "Ewq1plMxh76k",
        "outputId": "4e3e97e5-4fcb-4985-bc97-1412c56ca2f6"
      },
      "execution_count": null,
      "outputs": [
        {
          "output_type": "stream",
          "name": "stdout",
          "text": [
            "Round I:  1 sattaya\n",
            "y is here 5\n",
            "Round I:  2 santhong\n"
          ]
        }
      ]
    },
    {
      "cell_type": "markdown",
      "metadata": {
        "id": "XO6qqppikZvm"
      },
      "source": [
        "If the goal is simply to iterate over a list, we can do so directly as follows"
      ]
    },
    {
      "cell_type": "code",
      "metadata": {
        "id": "PjFKzN6zkeJ7",
        "colab": {
          "base_uri": "https://localhost:8080/"
        },
        "outputId": "38d3937e-5dd5-436b-bec0-554d241cf61f"
      },
      "source": [
        "for element in my_list:\n",
        "  print(element)"
      ],
      "execution_count": null,
      "outputs": [
        {
          "output_type": "stream",
          "name": "stdout",
          "text": [
            "0\n",
            "1\n",
            "2\n"
          ]
        }
      ]
    },
    {
      "cell_type": "markdown",
      "source": [
        "## Tip! List comprehensions:"
      ],
      "metadata": {
        "id": "vjdsW2Kdfd2t"
      }
    },
    {
      "cell_type": "markdown",
      "source": [
        "When programming, frequently we want to transform one type of data into another. As a simple example, consider the following code that computes square numbers:"
      ],
      "metadata": {
        "id": "-U73507jfpp9"
      }
    },
    {
      "cell_type": "code",
      "source": [
        "nums = [0, 1, 2, 3, 4]\n",
        "squares = []\n",
        "for x in nums:\n",
        "    squares.append(x ** 2)\n",
        "print(squares)"
      ],
      "metadata": {
        "id": "6KM8lew6fnnS",
        "colab": {
          "base_uri": "https://localhost:8080/"
        },
        "outputId": "f5e8bc7a-6d87-456b-db85-accd15185421"
      },
      "execution_count": null,
      "outputs": [
        {
          "output_type": "stream",
          "name": "stdout",
          "text": [
            "[0, 1, 4, 9, 16]\n"
          ]
        }
      ]
    },
    {
      "cell_type": "markdown",
      "source": [
        "You can make this code simpler using a list comprehension:"
      ],
      "metadata": {
        "id": "vjllDM8IftIG"
      }
    },
    {
      "cell_type": "code",
      "source": [
        "[x-1 for x in nums]"
      ],
      "metadata": {
        "colab": {
          "base_uri": "https://localhost:8080/"
        },
        "id": "OWbsYB0fmlaR",
        "outputId": "67ffeb5d-e155-4f42-b057-b445dedea85c"
      },
      "execution_count": null,
      "outputs": [
        {
          "output_type": "execute_result",
          "data": {
            "text/plain": [
              "[-1, 0, 1, 2, 3]"
            ]
          },
          "metadata": {},
          "execution_count": 156
        }
      ]
    },
    {
      "cell_type": "code",
      "source": [
        "nums = [0, 1, 2, 3, 4]\n",
        "squares = [x ** 2 for x in nums]\n",
        "print(squares)"
      ],
      "metadata": {
        "id": "L8zTGFckfsZM",
        "colab": {
          "base_uri": "https://localhost:8080/"
        },
        "outputId": "c05f99a1-0d7e-4533-d6f9-6ce245a4a8b6"
      },
      "execution_count": null,
      "outputs": [
        {
          "output_type": "stream",
          "name": "stdout",
          "text": [
            "[0, 1, 4, 9, 16]\n"
          ]
        }
      ]
    },
    {
      "cell_type": "markdown",
      "source": [
        "List comprehensions can also contain conditions:"
      ],
      "metadata": {
        "id": "uaewFFD7f14G"
      }
    },
    {
      "cell_type": "code",
      "source": [
        "x = 3\n",
        "x % 2 == 0"
      ],
      "metadata": {
        "id": "PaBB1-X-fsb2",
        "colab": {
          "base_uri": "https://localhost:8080/"
        },
        "outputId": "aa017078-bd26-4b3d-c19a-2240330f6133"
      },
      "execution_count": null,
      "outputs": [
        {
          "output_type": "execute_result",
          "data": {
            "text/plain": [
              "False"
            ]
          },
          "metadata": {},
          "execution_count": 158
        }
      ]
    },
    {
      "cell_type": "code",
      "source": [
        "x % 2"
      ],
      "metadata": {
        "colab": {
          "base_uri": "https://localhost:8080/"
        },
        "id": "g1wpUNOunAKG",
        "outputId": "29f6ce7a-798e-4d11-dc8d-91c2665bd458"
      },
      "execution_count": null,
      "outputs": [
        {
          "output_type": "execute_result",
          "data": {
            "text/plain": [
              "1"
            ]
          },
          "metadata": {},
          "execution_count": 159
        }
      ]
    },
    {
      "cell_type": "code",
      "source": [
        "nums = [0, 1, 2, 3, 4]\n",
        "even_squares = [x ** 2 for x in nums if x % 2 == 0]\n",
        "print(even_squares)"
      ],
      "metadata": {
        "id": "PohqoRQ0fsfI",
        "colab": {
          "base_uri": "https://localhost:8080/"
        },
        "outputId": "b0c4d586-b765-433f-bb8c-01724dbff508"
      },
      "execution_count": null,
      "outputs": [
        {
          "output_type": "stream",
          "name": "stdout",
          "text": [
            "[0, 4, 16]\n"
          ]
        }
      ]
    },
    {
      "cell_type": "code",
      "source": [
        "[x ** 2 if x % 2 == 0 else x for x in nums]"
      ],
      "metadata": {
        "colab": {
          "base_uri": "https://localhost:8080/"
        },
        "id": "1OaDI4-KnRl8",
        "outputId": "7a9c8271-6fa1-46de-f0f1-c915cd689e08"
      },
      "execution_count": null,
      "outputs": [
        {
          "output_type": "execute_result",
          "data": {
            "text/plain": [
              "[0, 1, 4, 3, 16]"
            ]
          },
          "metadata": {},
          "execution_count": 161
        }
      ]
    },
    {
      "cell_type": "markdown",
      "source": [
        "## Dictionaries\n",
        "\n",
        "![image.png](data:image/png;base64,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)"
      ],
      "metadata": {
        "id": "dbA5Cx4Xf9C-"
      }
    },
    {
      "cell_type": "markdown",
      "source": [
        "\n",
        "\n",
        "```\n",
        "# This is formatted as code\n",
        "```\n",
        "\n",
        "A dictionary stores (key, value) pairs, similar to a `Map` in Java or an object in Javascript. You can use it like this:"
      ],
      "metadata": {
        "id": "78ospISbgB79"
      }
    },
    {
      "cell_type": "code",
      "source": [
        "d = {'cat': 'cute', 'dog': 'furry'}  # Create a new dictionary with some data\n",
        "print(d['cat'])       # Get an entry from a dictionary; prints \"cute\"\n",
        "print('cat' in d)     # Check if a dictionary has a given key; prints \"True\""
      ],
      "metadata": {
        "id": "eVN_dxCPgITO",
        "colab": {
          "base_uri": "https://localhost:8080/"
        },
        "outputId": "71797f48-d890-4f50-e38f-977bf6525120"
      },
      "execution_count": null,
      "outputs": [
        {
          "output_type": "stream",
          "name": "stdout",
          "text": [
            "cute\n",
            "True\n"
          ]
        }
      ]
    },
    {
      "cell_type": "code",
      "source": [
        "d['fish'] = 'wet'    # Set an entry in a dictionary\n",
        "print(d['fish'])      # Prints \"wet\""
      ],
      "metadata": {
        "id": "0qUxqVl8gKow",
        "colab": {
          "base_uri": "https://localhost:8080/"
        },
        "outputId": "18f8d841-f53b-4fab-f228-b5eb96895bc0"
      },
      "execution_count": null,
      "outputs": [
        {
          "output_type": "stream",
          "name": "stdout",
          "text": [
            "wet\n"
          ]
        }
      ]
    },
    {
      "cell_type": "code",
      "source": [
        "d"
      ],
      "metadata": {
        "colab": {
          "base_uri": "https://localhost:8080/"
        },
        "id": "IhGi1KWUozb5",
        "outputId": "6603f2e4-50d7-434e-9497-2a4babaed51b"
      },
      "execution_count": null,
      "outputs": [
        {
          "output_type": "execute_result",
          "data": {
            "text/plain": [
              "{'cat': 'cute', 'dog': 'furry', 'fish': 'wet'}"
            ]
          },
          "metadata": {},
          "execution_count": 166
        }
      ]
    },
    {
      "cell_type": "code",
      "source": [
        "print(d)"
      ],
      "metadata": {
        "id": "2DQX5p1TgMke",
        "colab": {
          "base_uri": "https://localhost:8080/"
        },
        "outputId": "6ad8d6e7-8e15-4d45-acfc-f0ecfaa2c42d"
      },
      "execution_count": null,
      "outputs": [
        {
          "output_type": "stream",
          "name": "stdout",
          "text": [
            "{'cat': 'cute', 'dog': 'furry', 'fish': 'wet'}\n"
          ]
        }
      ]
    },
    {
      "cell_type": "code",
      "source": [
        "print(d['monkey'])  # KeyError: 'monkey' not a key of d"
      ],
      "metadata": {
        "id": "n0eyLaaQgNQS",
        "colab": {
          "base_uri": "https://localhost:8080/",
          "height": 165
        },
        "outputId": "b74f103a-9a30-4a4d-91ee-edb40789d501"
      },
      "execution_count": null,
      "outputs": [
        {
          "output_type": "error",
          "ename": "KeyError",
          "evalue": "ignored",
          "traceback": [
            "\u001b[0;31m---------------------------------------------------------------------------\u001b[0m",
            "\u001b[0;31mKeyError\u001b[0m                                  Traceback (most recent call last)",
            "\u001b[0;32m<ipython-input-168-78fc9745d9cf>\u001b[0m in \u001b[0;36m<module>\u001b[0;34m\u001b[0m\n\u001b[0;32m----> 1\u001b[0;31m \u001b[0mprint\u001b[0m\u001b[0;34m(\u001b[0m\u001b[0md\u001b[0m\u001b[0;34m[\u001b[0m\u001b[0;34m'monkey'\u001b[0m\u001b[0;34m]\u001b[0m\u001b[0;34m)\u001b[0m  \u001b[0;31m# KeyError: 'monkey' not a key of d\u001b[0m\u001b[0;34m\u001b[0m\u001b[0;34m\u001b[0m\u001b[0m\n\u001b[0m",
            "\u001b[0;31mKeyError\u001b[0m: 'monkey'"
          ]
        }
      ]
    },
    {
      "cell_type": "code",
      "source": [
        "print(d.get('monkey', 'N/A'))  # Get an element with a default; prints \"N/A\"\n",
        "print(d.get('fish', 'N/A'))    # Get an element with a default; prints \"wet\""
      ],
      "metadata": {
        "id": "gGt3kw2DgPBt",
        "colab": {
          "base_uri": "https://localhost:8080/"
        },
        "outputId": "8e535079-8601-445b-8fbf-d2cbb8e1d949"
      },
      "execution_count": null,
      "outputs": [
        {
          "output_type": "stream",
          "name": "stdout",
          "text": [
            "N/A\n",
            "wet\n"
          ]
        }
      ]
    },
    {
      "cell_type": "code",
      "source": [
        "del d['fish']        # Remove an element from a dictionary\n",
        "print(d.get('fish', 'N/A')) # \"fish\" is no longer a key; prints \"N/A\""
      ],
      "metadata": {
        "id": "QV3qNaLYgQ-x",
        "colab": {
          "base_uri": "https://localhost:8080/"
        },
        "outputId": "a2b65e31-6837-486e-d493-023b8a26fce5"
      },
      "execution_count": null,
      "outputs": [
        {
          "output_type": "stream",
          "name": "stdout",
          "text": [
            "N/A\n"
          ]
        }
      ]
    },
    {
      "cell_type": "code",
      "source": [
        "d"
      ],
      "metadata": {
        "colab": {
          "base_uri": "https://localhost:8080/"
        },
        "id": "gFBhFnL4pZyn",
        "outputId": "a02a6775-61ed-465e-870e-d1cd114347a9"
      },
      "execution_count": null,
      "outputs": [
        {
          "output_type": "execute_result",
          "data": {
            "text/plain": [
              "{'cat': 'cute', 'dog': 'furry'}"
            ]
          },
          "metadata": {},
          "execution_count": 171
        }
      ]
    },
    {
      "cell_type": "markdown",
      "source": [
        "You can find all you need to know about dictionaries in the [documentation](https://docs.python.org/2/library/stdtypes.html#dict)."
      ],
      "metadata": {
        "id": "jUb7CGfIgB_h"
      }
    },
    {
      "cell_type": "markdown",
      "source": [
        "It is easy to iterate over the keys in a dictionary:"
      ],
      "metadata": {
        "id": "xeUZiw3_gVqV"
      }
    },
    {
      "cell_type": "code",
      "source": [
        "for i in d.items(): print(i[0], i[1])"
      ],
      "metadata": {
        "colab": {
          "base_uri": "https://localhost:8080/"
        },
        "id": "lkkz6of9ppJ4",
        "outputId": "6cf2421b-e49c-48b4-8977-95ca3c804be6"
      },
      "execution_count": null,
      "outputs": [
        {
          "output_type": "stream",
          "name": "stdout",
          "text": [
            "cat cute\n",
            "dog furry\n"
          ]
        }
      ]
    },
    {
      "cell_type": "code",
      "source": [
        "d.items()"
      ],
      "metadata": {
        "id": "5fBwASaegY6_",
        "colab": {
          "base_uri": "https://localhost:8080/"
        },
        "outputId": "8c6e0833-d70e-46bf-e09a-f907c934c93f"
      },
      "execution_count": null,
      "outputs": [
        {
          "output_type": "execute_result",
          "data": {
            "text/plain": [
              "dict_items([('cat', 'cute'), ('dog', 'furry')])"
            ]
          },
          "metadata": {},
          "execution_count": 172
        }
      ]
    },
    {
      "cell_type": "code",
      "source": [
        "d.keys()"
      ],
      "metadata": {
        "id": "1KeXZw_5gY9s",
        "colab": {
          "base_uri": "https://localhost:8080/"
        },
        "outputId": "edc976bb-4db7-4d27-96aa-ab33234af69a"
      },
      "execution_count": null,
      "outputs": [
        {
          "output_type": "execute_result",
          "data": {
            "text/plain": [
              "dict_keys(['cat', 'dog'])"
            ]
          },
          "metadata": {},
          "execution_count": 175
        }
      ]
    },
    {
      "cell_type": "code",
      "source": [
        "d.values()"
      ],
      "metadata": {
        "id": "MGRBVyYBgZBy",
        "colab": {
          "base_uri": "https://localhost:8080/"
        },
        "outputId": "796fcd76-f1dc-4313-88eb-16b96caf0a6e"
      },
      "execution_count": null,
      "outputs": [
        {
          "output_type": "execute_result",
          "data": {
            "text/plain": [
              "dict_values(['cute', 'furry'])"
            ]
          },
          "metadata": {},
          "execution_count": 177
        }
      ]
    },
    {
      "cell_type": "code",
      "source": [
        "d = {'person': 2, 'cat': 4, 'spider': 8}\n",
        "for animal, legs in d.items():\n",
        "    print(f'A {animal} has {legs} legs')"
      ],
      "metadata": {
        "id": "fExQluU_geGt",
        "colab": {
          "base_uri": "https://localhost:8080/"
        },
        "outputId": "f536a972-4b98-45fb-9356-d1645d9d5bb4"
      },
      "execution_count": null,
      "outputs": [
        {
          "output_type": "stream",
          "name": "stdout",
          "text": [
            "A person has 2 legs\n",
            "A cat has 4 legs\n",
            "A spider has 8 legs\n"
          ]
        }
      ]
    },
    {
      "cell_type": "markdown",
      "source": [
        "Dictionary comprehensions: These are similar to list comprehensions, but allow you to easily construct dictionaries. For example:"
      ],
      "metadata": {
        "id": "UqwEfFSvggss"
      }
    },
    {
      "cell_type": "code",
      "source": [
        "nums = [0, 1, 2, 3, 4]\n",
        "even_num_to_square = {x: x ** 2 for x in nums if x % 2 == 0}\n",
        "print(even_num_to_square)"
      ],
      "metadata": {
        "id": "Jlp-rjXsgjQP",
        "colab": {
          "base_uri": "https://localhost:8080/"
        },
        "outputId": "6c3790c8-b283-4ab8-ae62-d40c86276935"
      },
      "execution_count": null,
      "outputs": [
        {
          "output_type": "stream",
          "name": "stdout",
          "text": [
            "{0: 0, 2: 4, 4: 16}\n"
          ]
        }
      ]
    },
    {
      "cell_type": "markdown",
      "source": [
        "## Sets"
      ],
      "metadata": {
        "id": "8KpxPbcRgn1-"
      }
    },
    {
      "cell_type": "markdown",
      "source": [
        "A set is an unordered collection of distinct elements. As a simple example, consider the following:"
      ],
      "metadata": {
        "id": "Y14M9YWogvNZ"
      }
    },
    {
      "cell_type": "code",
      "source": [
        "animals = {'cat', 'dog'}\n",
        "print('cat' in animals)   # Check if an element is in a set; prints \"True\"\n",
        "print('fish' in animals)  # prints \"False\""
      ],
      "metadata": {
        "id": "SN3kkSrwgsga",
        "colab": {
          "base_uri": "https://localhost:8080/"
        },
        "outputId": "af3974fa-89c2-4755-95ac-4e4406c7fb9b"
      },
      "execution_count": null,
      "outputs": [
        {
          "output_type": "stream",
          "name": "stdout",
          "text": [
            "True\n",
            "False\n"
          ]
        }
      ]
    },
    {
      "cell_type": "code",
      "source": [
        "animals.add('fish')      # Add an element to a set\n",
        "print('fish' in animals)\n",
        "print(len(animals))       # Number of elements in a set;"
      ],
      "metadata": {
        "id": "y1Ie4QC8gsoC",
        "colab": {
          "base_uri": "https://localhost:8080/"
        },
        "outputId": "ef79a77c-cd1a-4be1-aff8-95d3fc90ecc2"
      },
      "execution_count": null,
      "outputs": [
        {
          "output_type": "stream",
          "name": "stdout",
          "text": [
            "True\n",
            "3\n"
          ]
        }
      ]
    },
    {
      "cell_type": "code",
      "source": [
        "animals"
      ],
      "metadata": {
        "colab": {
          "base_uri": "https://localhost:8080/"
        },
        "id": "jnfy3KKurH0J",
        "outputId": "6135d2f0-e621-481a-bcfd-c9626d342197"
      },
      "execution_count": null,
      "outputs": [
        {
          "output_type": "execute_result",
          "data": {
            "text/plain": [
              "{'cat', 'dog', 'fish'}"
            ]
          },
          "metadata": {},
          "execution_count": 182
        }
      ]
    },
    {
      "cell_type": "code",
      "source": [
        "animals.add('fish')\n",
        "print(len(animals))"
      ],
      "metadata": {
        "id": "XIfyLfPcgyxd",
        "colab": {
          "base_uri": "https://localhost:8080/"
        },
        "outputId": "ae561403-db7b-493d-8030-67557d730e83"
      },
      "execution_count": null,
      "outputs": [
        {
          "output_type": "stream",
          "name": "stdout",
          "text": [
            "3\n"
          ]
        }
      ]
    },
    {
      "cell_type": "code",
      "source": [
        "animals"
      ],
      "metadata": {
        "id": "rdNPemdhg16g",
        "colab": {
          "base_uri": "https://localhost:8080/"
        },
        "outputId": "282fb174-3b60-4392-cb37-014018bf97cd"
      },
      "execution_count": null,
      "outputs": [
        {
          "output_type": "execute_result",
          "data": {
            "text/plain": [
              "{'cat', 'dog', 'fish'}"
            ]
          },
          "metadata": {},
          "execution_count": 184
        }
      ]
    },
    {
      "cell_type": "code",
      "source": [
        "l = [1]\n",
        "l.append(1)\n",
        "print(l)"
      ],
      "metadata": {
        "id": "HZXCwRpqg3-5",
        "colab": {
          "base_uri": "https://localhost:8080/"
        },
        "outputId": "fe67cfd5-35ae-460d-9cc1-03ba899f4198"
      },
      "execution_count": null,
      "outputs": [
        {
          "output_type": "stream",
          "name": "stdout",
          "text": [
            "[1, 1]\n"
          ]
        }
      ]
    },
    {
      "cell_type": "code",
      "source": [
        "animals.add('cat')       # Adding an element that is already in the set does nothing\n",
        "print(len(animals))  \n",
        "print(animals)"
      ],
      "metadata": {
        "id": "Hqt4-kXxg6aa",
        "colab": {
          "base_uri": "https://localhost:8080/"
        },
        "outputId": "d0fd483b-f430-4590-d84a-5d10dc495fb8"
      },
      "execution_count": null,
      "outputs": [
        {
          "output_type": "stream",
          "name": "stdout",
          "text": [
            "3\n",
            "{'fish', 'cat', 'dog'}\n"
          ]
        }
      ]
    },
    {
      "cell_type": "code",
      "source": [
        "animals.remove('cat')    # Remove an element from a set\n",
        "print(len(animals))       "
      ],
      "metadata": {
        "id": "_jxXVuFKg7Re",
        "colab": {
          "base_uri": "https://localhost:8080/"
        },
        "outputId": "8faa046c-dc53-4c57-af25-fe06aec5ecd0"
      },
      "execution_count": null,
      "outputs": [
        {
          "output_type": "stream",
          "name": "stdout",
          "text": [
            "2\n"
          ]
        }
      ]
    },
    {
      "cell_type": "markdown",
      "source": [
        "_Loops_: Iterating over a set has the same syntax as iterating over a list; however since sets are unordered, you cannot make assumptions about the order in which you visit the elements of the set:"
      ],
      "metadata": {
        "id": "s4fXZNKhhs-g"
      }
    },
    {
      "cell_type": "code",
      "source": [
        "animals = {'cat', 'dog', 'fish'}\n",
        "for idx, animal in enumerate(animals):\n",
        "    print('#{}: {}'.format(idx + 1, animal))"
      ],
      "metadata": {
        "id": "6BwtIC4_huKp",
        "colab": {
          "base_uri": "https://localhost:8080/"
        },
        "outputId": "f1e7a681-53dc-4aa5-9789-5fc8afcb3fe7"
      },
      "execution_count": null,
      "outputs": [
        {
          "output_type": "stream",
          "name": "stdout",
          "text": [
            "#1: fish\n",
            "#2: cat\n",
            "#3: dog\n"
          ]
        }
      ]
    },
    {
      "cell_type": "markdown",
      "source": [
        "Set comprehensions: Like lists and dictionaries, we can easily construct sets using set comprehensions:"
      ],
      "metadata": {
        "id": "EeVYoQWEhzYi"
      }
    },
    {
      "cell_type": "code",
      "source": [
        "from math import sqrt\n",
        "print({int(sqrt(x)) for x in range(30)})"
      ],
      "metadata": {
        "id": "2xIgIzYqhwZt",
        "colab": {
          "base_uri": "https://localhost:8080/"
        },
        "outputId": "187d0c78-28fb-404a-fa7d-5463f8bd041d"
      },
      "execution_count": null,
      "outputs": [
        {
          "output_type": "stream",
          "name": "stdout",
          "text": [
            "{0, 1, 2, 3, 4, 5}\n"
          ]
        }
      ]
    },
    {
      "cell_type": "code",
      "source": [
        "print([int(sqrt(x)) for x in range(30)])"
      ],
      "metadata": {
        "id": "Y6z44hRzhwj-",
        "colab": {
          "base_uri": "https://localhost:8080/"
        },
        "outputId": "dc893e1b-b682-4365-9674-c72cb9469135"
      },
      "execution_count": null,
      "outputs": [
        {
          "output_type": "stream",
          "name": "stdout",
          "text": [
            "[0, 1, 1, 1, 2, 2, 2, 2, 2, 3, 3, 3, 3, 3, 3, 3, 4, 4, 4, 4, 4, 4, 4, 4, 4, 5, 5, 5, 5, 5]\n"
          ]
        }
      ]
    },
    {
      "cell_type": "markdown",
      "source": [
        "Tip!: Find the unique value from list"
      ],
      "metadata": {
        "id": "0uZWQBBkhM4_"
      }
    },
    {
      "cell_type": "code",
      "source": [
        "animals_list = ['cat', 'dog', 'cat', 'cat', 'dog']\n",
        "set(animals_list)"
      ],
      "metadata": {
        "id": "bwM1tD77hN_6",
        "colab": {
          "base_uri": "https://localhost:8080/"
        },
        "outputId": "e74ee6d4-d7e4-43f8-e3c9-3d253f1eb77c"
      },
      "execution_count": null,
      "outputs": [
        {
          "output_type": "execute_result",
          "data": {
            "text/plain": [
              "{'cat', 'dog'}"
            ]
          },
          "metadata": {},
          "execution_count": 191
        }
      ]
    },
    {
      "cell_type": "markdown",
      "source": [
        "Tip!: Union and Inter-section"
      ],
      "metadata": {
        "id": "JoRg8DtuhdSq"
      }
    },
    {
      "cell_type": "code",
      "source": [
        "# sets are define\n",
        "A = {0, 2, 4, 6, 8};\n",
        "B = {1, 2, 3, 4, 5};\n",
        "  \n",
        "# union\n",
        "print(\"Union :\", A | B)\n",
        "  \n",
        "# intersection\n",
        "print(\"Intersection :\", A & B)\n",
        "  \n",
        "# difference\n",
        "print(\"Difference :\", A - B)\n",
        "  \n",
        "# symmetric difference\n",
        "print(\"Symmetric difference :\", A ^ B)"
      ],
      "metadata": {
        "id": "ftDRdpHkhcem",
        "colab": {
          "base_uri": "https://localhost:8080/"
        },
        "outputId": "d2d9fad2-a909-4d25-ea99-5e0d23f5166e"
      },
      "execution_count": null,
      "outputs": [
        {
          "output_type": "stream",
          "name": "stdout",
          "text": [
            "Union : {0, 1, 2, 3, 4, 5, 6, 8}\n",
            "Intersection : {2, 4}\n",
            "Difference : {0, 8, 6}\n",
            "Symmetric difference : {0, 1, 3, 5, 6, 8}\n"
          ]
        }
      ]
    },
    {
      "cell_type": "markdown",
      "source": [
        "## Tuple"
      ],
      "metadata": {
        "id": "T3VQ6cTRiIq4"
      }
    },
    {
      "cell_type": "markdown",
      "source": [
        "A tuple is an (immutable) ordered list of values. A tuple is in many ways similar to a list; one of the most important differences is that tuples can be used as keys in dictionaries and as elements of sets, while lists cannot. Here is a trivial example:"
      ],
      "metadata": {
        "id": "w9fCoQeKiNQM"
      }
    },
    {
      "cell_type": "code",
      "source": [
        "t = (0,1,2)\n",
        "print(type(t))"
      ],
      "metadata": {
        "id": "obRXzPrwiKZv",
        "colab": {
          "base_uri": "https://localhost:8080/"
        },
        "outputId": "41eef985-0d7f-4ab0-ff81-335232e40318"
      },
      "execution_count": null,
      "outputs": [
        {
          "output_type": "stream",
          "name": "stdout",
          "text": [
            "<class 'tuple'>\n"
          ]
        }
      ]
    },
    {
      "cell_type": "code",
      "source": [
        "d = {(x, x + 1): x for x in range(10)}  # Create a dictionary with tuple keys\n",
        "t = (5, 6)       # Create a tuple\n",
        "print(type(t))\n",
        "print(d[t])       \n",
        "print(d[(1, 2)])"
      ],
      "metadata": {
        "id": "F7bwX2Z2iPe8",
        "colab": {
          "base_uri": "https://localhost:8080/"
        },
        "outputId": "85b7ddeb-7a9d-48dc-a6b8-f9f3ee9c1150"
      },
      "execution_count": null,
      "outputs": [
        {
          "output_type": "stream",
          "name": "stdout",
          "text": [
            "<class 'tuple'>\n",
            "5\n",
            "1\n"
          ]
        }
      ]
    },
    {
      "cell_type": "code",
      "source": [
        "d"
      ],
      "metadata": {
        "id": "woFDPNM_iQ7A",
        "colab": {
          "base_uri": "https://localhost:8080/"
        },
        "outputId": "48f70372-2dba-4d43-cabc-d37a4ad278fb"
      },
      "execution_count": null,
      "outputs": [
        {
          "output_type": "execute_result",
          "data": {
            "text/plain": [
              "{(0, 1): 0,\n",
              " (1, 2): 1,\n",
              " (2, 3): 2,\n",
              " (3, 4): 3,\n",
              " (4, 5): 4,\n",
              " (5, 6): 5,\n",
              " (6, 7): 6,\n",
              " (7, 8): 7,\n",
              " (8, 9): 8,\n",
              " (9, 10): 9}"
            ]
          },
          "metadata": {},
          "execution_count": 195
        }
      ]
    },
    {
      "cell_type": "code",
      "source": [
        "t[0] = 1 # error beacuse the tuple is not support for assignment"
      ],
      "metadata": {
        "id": "t4gnSF1LiTVB",
        "colab": {
          "base_uri": "https://localhost:8080/",
          "height": 165
        },
        "outputId": "c98011ec-520e-4b7f-dbc2-8fee39a716a4"
      },
      "execution_count": null,
      "outputs": [
        {
          "output_type": "error",
          "ename": "TypeError",
          "evalue": "ignored",
          "traceback": [
            "\u001b[0;31m---------------------------------------------------------------------------\u001b[0m",
            "\u001b[0;31mTypeError\u001b[0m                                 Traceback (most recent call last)",
            "\u001b[0;32m<ipython-input-196-98228bc4e463>\u001b[0m in \u001b[0;36m<module>\u001b[0;34m\u001b[0m\n\u001b[0;32m----> 1\u001b[0;31m \u001b[0mt\u001b[0m\u001b[0;34m[\u001b[0m\u001b[0;36m0\u001b[0m\u001b[0;34m]\u001b[0m \u001b[0;34m=\u001b[0m \u001b[0;36m1\u001b[0m \u001b[0;31m# error beacuse the tuple is not support for assignment\u001b[0m\u001b[0;34m\u001b[0m\u001b[0;34m\u001b[0m\u001b[0m\n\u001b[0m",
            "\u001b[0;31mTypeError\u001b[0m: 'tuple' object does not support item assignment"
          ]
        }
      ]
    },
    {
      "cell_type": "code",
      "source": [
        "tmp_list = []\n",
        "tmp_list.append(\"sattaya\")\n",
        "tmp_list.append(\"singkul\")\n",
        "tmp_list[0] = ''\n",
        "tmp_list"
      ],
      "metadata": {
        "colab": {
          "base_uri": "https://localhost:8080/"
        },
        "id": "8ZTPrbYvtMj9",
        "outputId": "51fce75c-41de-4b12-c0f4-b3f77119c205"
      },
      "execution_count": null,
      "outputs": [
        {
          "output_type": "execute_result",
          "data": {
            "text/plain": [
              "['', 'singkul']"
            ]
          },
          "metadata": {},
          "execution_count": 200
        }
      ]
    },
    {
      "cell_type": "code",
      "source": [
        "tmp_tuple = (2000, 1, 12)\n",
        "tmp_tuple[0] += 1"
      ],
      "metadata": {
        "colab": {
          "base_uri": "https://localhost:8080/",
          "height": 182
        },
        "id": "f4ptkNKJtlUD",
        "outputId": "e3a5cdf9-3639-4c99-c6f8-4263df92d56f"
      },
      "execution_count": null,
      "outputs": [
        {
          "output_type": "error",
          "ename": "TypeError",
          "evalue": "ignored",
          "traceback": [
            "\u001b[0;31m---------------------------------------------------------------------------\u001b[0m",
            "\u001b[0;31mTypeError\u001b[0m                                 Traceback (most recent call last)",
            "\u001b[0;32m<ipython-input-202-362e4cca324b>\u001b[0m in \u001b[0;36m<module>\u001b[0;34m\u001b[0m\n\u001b[1;32m      1\u001b[0m \u001b[0mtmp_tuple\u001b[0m \u001b[0;34m=\u001b[0m \u001b[0;34m(\u001b[0m\u001b[0;36m2000\u001b[0m\u001b[0;34m,\u001b[0m \u001b[0;36m1\u001b[0m\u001b[0;34m,\u001b[0m \u001b[0;36m12\u001b[0m\u001b[0;34m)\u001b[0m\u001b[0;34m\u001b[0m\u001b[0;34m\u001b[0m\u001b[0m\n\u001b[0;32m----> 2\u001b[0;31m \u001b[0mtmp_tuple\u001b[0m\u001b[0;34m[\u001b[0m\u001b[0;36m0\u001b[0m\u001b[0;34m]\u001b[0m \u001b[0;34m+=\u001b[0m \u001b[0;36m1\u001b[0m\u001b[0;34m\u001b[0m\u001b[0;34m\u001b[0m\u001b[0m\n\u001b[0m",
            "\u001b[0;31mTypeError\u001b[0m: 'tuple' object does not support item assignment"
          ]
        }
      ]
    },
    {
      "cell_type": "code",
      "source": [
        "dict_tmp = {\"book\": \"cute\"}"
      ],
      "metadata": {
        "id": "sr39LUKwt5QI"
      },
      "execution_count": null,
      "outputs": []
    },
    {
      "cell_type": "markdown",
      "metadata": {
        "id": "Cck4zwYrex02"
      },
      "source": [
        "## Functions"
      ]
    },
    {
      "cell_type": "markdown",
      "metadata": {
        "id": "n1PbIf_ohxFO"
      },
      "source": [
        "To improve code readability, it is common to separate the code into different blocks, responsible for performing precise actions: functions. A function takes some inputs and process them to return some outputs."
      ]
    },
    {
      "cell_type": "code",
      "source": [
        "def double_twice(x):\n",
        "  \"\"\"example\"\"\"\n",
        "  x = x**2\n",
        "  x += 2\n",
        "  return x\n",
        "\n",
        "num = 20\n",
        "double_twice(num)"
      ],
      "metadata": {
        "colab": {
          "base_uri": "https://localhost:8080/"
        },
        "id": "vlIlSdvouYOW",
        "outputId": "84c73995-aa49-47f0-dc4a-34e4354a6385"
      },
      "execution_count": null,
      "outputs": [
        {
          "output_type": "execute_result",
          "data": {
            "text/plain": [
              "402"
            ]
          },
          "metadata": {},
          "execution_count": 205
        }
      ]
    },
    {
      "cell_type": "code",
      "metadata": {
        "id": "cImA09gOhRmx",
        "colab": {
          "base_uri": "https://localhost:8080/"
        },
        "outputId": "7c8f3ea2-d6a9-4fd2-cf6e-3bb199dafed7"
      },
      "source": [
        "def square(x):\n",
        "  return x ** 2\n",
        "\n",
        "def multiply(a, b):\n",
        "  return a * b\n",
        "\n",
        "# Functions can be composed.\n",
        "square(multiply(3, 2))"
      ],
      "execution_count": null,
      "outputs": [
        {
          "output_type": "execute_result",
          "data": {
            "text/plain": [
              "36"
            ]
          },
          "metadata": {},
          "execution_count": 206
        }
      ]
    },
    {
      "cell_type": "markdown",
      "metadata": {
        "id": "75-5SOk9iYSt"
      },
      "source": [
        "To improve code readability, it is sometimes useful to explicitly name the arguments"
      ]
    },
    {
      "cell_type": "code",
      "metadata": {
        "id": "wkIUuZHhidI0",
        "colab": {
          "base_uri": "https://localhost:8080/"
        },
        "outputId": "5599d9dc-ce8a-4403-a366-e9840ed9bce5"
      },
      "source": [
        "square(multiply(a=3, b=2))"
      ],
      "execution_count": null,
      "outputs": [
        {
          "output_type": "execute_result",
          "data": {
            "text/plain": [
              "36"
            ]
          },
          "metadata": {},
          "execution_count": 207
        }
      ]
    },
    {
      "cell_type": "markdown",
      "source": [
        "create anonymous function with Lambda"
      ],
      "metadata": {
        "id": "6X6FvezBLzxR"
      }
    },
    {
      "cell_type": "code",
      "source": [
        "ex_function = lambda x: x+1\n",
        "ex_function(10)"
      ],
      "metadata": {
        "colab": {
          "base_uri": "https://localhost:8080/"
        },
        "id": "OfPTehGavxzg",
        "outputId": "ef8f984a-5788-4eef-fc48-d3f8a4b6102e"
      },
      "execution_count": null,
      "outputs": [
        {
          "output_type": "execute_result",
          "data": {
            "text/plain": [
              "11"
            ]
          },
          "metadata": {},
          "execution_count": 211
        }
      ]
    },
    {
      "cell_type": "code",
      "source": [
        "x = lambda a, b, c : a + b + c\n",
        "print(x(5, 6, 2))"
      ],
      "metadata": {
        "colab": {
          "base_uri": "https://localhost:8080/"
        },
        "id": "V2uMMMZ0L4n6",
        "outputId": "a95151ec-bf3b-449f-95d5-7a6515130928"
      },
      "execution_count": null,
      "outputs": [
        {
          "output_type": "stream",
          "name": "stdout",
          "text": [
            "13\n"
          ]
        }
      ]
    },
    {
      "cell_type": "code",
      "source": [],
      "metadata": {
        "id": "-4tpZCWcvxLx"
      },
      "execution_count": null,
      "outputs": []
    },
    {
      "cell_type": "markdown",
      "source": [
        "## Class"
      ],
      "metadata": {
        "id": "uR8tfWSeKcKk"
      }
    },
    {
      "cell_type": "code",
      "source": [
        "class Greeter:\n",
        "\n",
        "    # Constructor\n",
        "    def __init__(self, name):\n",
        "        self.name = name  # Create an instance variable (object property)\n",
        "        print('Meet '+name)\n",
        "\n",
        "    # Instance method\n",
        "    def greet(self, loud=False):\n",
        "        if loud:\n",
        "          print('HELLO, {}'.format(self.name.upper()))\n",
        "        else:\n",
        "          print('Hello, {}!'.format(self.name))"
      ],
      "metadata": {
        "id": "AJEFb1mjKbJy"
      },
      "execution_count": null,
      "outputs": []
    },
    {
      "cell_type": "code",
      "source": [
        "g = Greeter('Fred')  # Construct an instance of the Greeter class"
      ],
      "metadata": {
        "colab": {
          "base_uri": "https://localhost:8080/"
        },
        "id": "T0ICBwGXKbVW",
        "outputId": "05b55606-f37b-4a7e-ba21-f96ad6677575"
      },
      "execution_count": null,
      "outputs": [
        {
          "output_type": "stream",
          "name": "stdout",
          "text": [
            "Meet Fred\n"
          ]
        }
      ]
    },
    {
      "cell_type": "code",
      "source": [
        "g.greet()            # Call an instance method; prints \"Hello, Fred\"\n",
        "g.greet(loud=True)   # Call an instance method; prints \"HELLO, FRED!\""
      ],
      "metadata": {
        "colab": {
          "base_uri": "https://localhost:8080/"
        },
        "id": "Tf93wcxwKgUZ",
        "outputId": "9639afe9-deb4-46b6-81d3-db6a18b7fbe3"
      },
      "execution_count": null,
      "outputs": [
        {
          "output_type": "stream",
          "name": "stdout",
          "text": [
            "Hello, Fred!\n",
            "HELLO, FRED\n"
          ]
        }
      ]
    },
    {
      "cell_type": "code",
      "source": [
        "# Create template class (main)\n",
        "class Person:\n",
        "  def __init__(self, fname, lname):\n",
        "    self.firstname = fname\n",
        "    self.lastname = lname\n",
        "\n",
        "  def getname(self):\n",
        "    return f\"{self.firstname} {self.lastname}\"\n",
        "    \n",
        "x = Person(\"John\", \"Doe\")\n",
        "x.getname()"
      ],
      "metadata": {
        "colab": {
          "base_uri": "https://localhost:8080/",
          "height": 36
        },
        "id": "gv9YbpQwKikj",
        "outputId": "748f79f2-0d75-40a1-ce07-3836599f7a6e"
      },
      "execution_count": null,
      "outputs": [
        {
          "output_type": "execute_result",
          "data": {
            "text/plain": [
              "'John Doe'"
            ],
            "application/vnd.google.colaboratory.intrinsic+json": {
              "type": "string"
            }
          },
          "metadata": {},
          "execution_count": 216
        }
      ]
    },
    {
      "cell_type": "code",
      "source": [
        "# inheritance Person to child class (Student)\n",
        "class Student(Person):\n",
        "  pass\n",
        "\n",
        "x = Student(\"Mike\", \"Olsen\")\n",
        "x.getname()"
      ],
      "metadata": {
        "colab": {
          "base_uri": "https://localhost:8080/",
          "height": 36
        },
        "id": "KZnQl6JgKun6",
        "outputId": "aefc3c4f-f38d-4b7c-e1f6-ee5293e91c20"
      },
      "execution_count": null,
      "outputs": [
        {
          "output_type": "execute_result",
          "data": {
            "text/plain": [
              "'Mike Olsen'"
            ],
            "application/vnd.google.colaboratory.intrinsic+json": {
              "type": "string"
            }
          },
          "metadata": {},
          "execution_count": 217
        }
      ]
    },
    {
      "cell_type": "code",
      "source": [
        "class Student(Person):\n",
        "  def __init__(self, fname: str, lname: str, year: str):\n",
        "    super().__init__(fname, lname)\n",
        "    print(type(year))\n",
        "    self.graduationyear = year\n",
        "\n",
        "  def welcome(self):\n",
        "    return f\"Welcome {self.firstname} {self.lastname} to the class of {self.graduationyear}.\"\n",
        "\n",
        "x = Student(\"Mike\", \"Olsen\", 2019)\n",
        "\n",
        "message = f\"\"\"Dear {x.getname()},\n",
        "{x.welcome()}\n",
        "\"\"\"\n",
        "print(message)"
      ],
      "metadata": {
        "colab": {
          "base_uri": "https://localhost:8080/"
        },
        "id": "9h4YcpiTK5bL",
        "outputId": "f1fe0730-f3fa-44e9-9a2e-d09e5fa5f4c2"
      },
      "execution_count": null,
      "outputs": [
        {
          "output_type": "stream",
          "name": "stdout",
          "text": [
            "<class 'int'>\n",
            "Dear Mike Olsen,\n",
            "Welcome Mike Olsen to the class of 2019.\n",
            "\n"
          ]
        }
      ]
    },
    {
      "cell_type": "code",
      "source": [
        "# force to edit property\n",
        "x.firstname = \"Sattaya\"\n",
        "x.lastname = \"Singkul\"\n",
        "\n",
        "message = f\"\"\"Dear {x.getname()},\n",
        "{x.welcome()}\n",
        "\"\"\"\n",
        "\n",
        "print(message)"
      ],
      "metadata": {
        "colab": {
          "base_uri": "https://localhost:8080/"
        },
        "id": "TWJXhXPeRaHF",
        "outputId": "464454b5-4429-4d02-8e1d-60a345d0f72d"
      },
      "execution_count": null,
      "outputs": [
        {
          "output_type": "stream",
          "name": "stdout",
          "text": [
            "Dear Sattaya Singkul,\n",
            "Welcome Sattaya Singkul to the class of 2019.\n",
            "\n"
          ]
        }
      ]
    },
    {
      "cell_type": "code",
      "source": [
        "assert 10 == 1, \"non equal\""
      ],
      "metadata": {
        "colab": {
          "base_uri": "https://localhost:8080/",
          "height": 165
        },
        "id": "Xhggzo880DRW",
        "outputId": "17959d2c-0acd-4227-8781-1a62154c85ca"
      },
      "execution_count": null,
      "outputs": [
        {
          "output_type": "error",
          "ename": "AssertionError",
          "evalue": "ignored",
          "traceback": [
            "\u001b[0;31m---------------------------------------------------------------------------\u001b[0m",
            "\u001b[0;31mAssertionError\u001b[0m                            Traceback (most recent call last)",
            "\u001b[0;32m<ipython-input-221-80c4ef7bf814>\u001b[0m in \u001b[0;36m<module>\u001b[0;34m\u001b[0m\n\u001b[0;32m----> 1\u001b[0;31m \u001b[0;32massert\u001b[0m \u001b[0;36m10\u001b[0m \u001b[0;34m==\u001b[0m \u001b[0;36m1\u001b[0m\u001b[0;34m,\u001b[0m \u001b[0;34m\"non equal\"\u001b[0m\u001b[0;34m\u001b[0m\u001b[0;34m\u001b[0m\u001b[0m\n\u001b[0m",
            "\u001b[0;31mAssertionError\u001b[0m: non equal"
          ]
        }
      ]
    },
    {
      "cell_type": "code",
      "source": [
        "# assert the value to scope and handle bug\n",
        "class HeadStudent(Student):\n",
        "  def __init__(self, fname: str, lname: str, year: str):\n",
        "    super().__init__(fname, lname, year)\n",
        "  \n",
        "  def assign_talk(self, teacher):\n",
        "    assert type(teacher) == str, \"Type is not matach, please input string only.\"\n",
        "    return f\"The head student is very important and respectful to being an example. {self.firstname} {self.lastname} is proper for this. This role is assigned by {teacher}.\"\n",
        "\n",
        "x = HeadStudent(\"Sataya\", \"Nadella\", 2022)\n",
        "# x.assign_talk(0)\n",
        "x.assign_talk(\"Andrew Ng\")"
      ],
      "metadata": {
        "colab": {
          "base_uri": "https://localhost:8080/",
          "height": 53
        },
        "id": "gBPpPa3ASIIR",
        "outputId": "6e5a548b-061f-4b3e-f901-fb2122d903bd"
      },
      "execution_count": null,
      "outputs": [
        {
          "output_type": "execute_result",
          "data": {
            "text/plain": [
              "'The head student is very important and respectful to being an example. Sataya Nadella is proper for this. This role is assigned by Andrew Ng.'"
            ],
            "application/vnd.google.colaboratory.intrinsic+json": {
              "type": "string"
            }
          },
          "metadata": {},
          "execution_count": 224
        }
      ]
    },
    {
      "cell_type": "markdown",
      "source": [
        "## Module"
      ],
      "metadata": {
        "id": "IQgupcfdMcOe"
      }
    },
    {
      "cell_type": "code",
      "source": [
        "!ls"
      ],
      "metadata": {
        "colab": {
          "base_uri": "https://localhost:8080/"
        },
        "id": "0ZusPCGs0wGm",
        "outputId": "9bfe9636-894a-4591-a832-388b393e1a35"
      },
      "execution_count": null,
      "outputs": [
        {
          "output_type": "stream",
          "name": "stdout",
          "text": [
            "sample_data  test.py\n"
          ]
        }
      ]
    },
    {
      "cell_type": "code",
      "source": [
        "%%writefile test.py\n",
        "\n",
        "class Person:\n",
        "  def __init__(self, fname, lname):\n",
        "    self.firstname = fname\n",
        "    self.lastname = lname\n",
        "\n",
        "  def printname(self):\n",
        "    print(self.firstname, self.lastname)\n",
        "\n",
        "  def getname(self):\n",
        "    return f\"{self.firstname} {self.lastname}\"\n",
        "\n",
        "class Student(Person):\n",
        "  def __init__(self, fname: str, lname: str, year: str):\n",
        "    super().__init__(fname, lname)\n",
        "    self.graduationyear = year\n",
        "\n",
        "  def welcome(self):\n",
        "    return f\"Welcome {self.firstname} {self.lastname} to the class of {self.graduationyear}.\"\n",
        "\n",
        "class HeadStudent(Student):\n",
        "  def __init__(self, fname: str, lname: str, year: str):\n",
        "    super().__init__(fname, lname, year)\n",
        "  \n",
        "  def assign_talk(self, teacher):\n",
        "    assert type(teacher) == str, \"Type is not matach, please input string only.\"\n",
        "    return f\"The head student is very important and respectful to being an example. {self.firstname} {self.lastname} is proper for this. This role is assigned by {teacher}.\""
      ],
      "metadata": {
        "colab": {
          "base_uri": "https://localhost:8080/"
        },
        "id": "JvUmeZ3oMeI2",
        "outputId": "934a810e-421c-4966-9dae-31c686d47b47"
      },
      "execution_count": null,
      "outputs": [
        {
          "output_type": "stream",
          "name": "stdout",
          "text": [
            "Writing test.py\n"
          ]
        }
      ]
    },
    {
      "cell_type": "code",
      "source": [
        "import test\n",
        "import importlib\n",
        "importlib.reload(test) # for reload module, if your module is updated!\n",
        "x = test.HeadStudent(\"Hiroshi\", \"Naka\", 2022)\n",
        "\n",
        "message = f\"\"\"Dear {x.getname()},\n",
        "{x.welcome()}\n",
        "{x.assign_talk(\"Mr. Sattaya Singkul\")},\n",
        "\n",
        "Best regards,\n",
        "SuperAI School\n",
        "\"\"\"\n",
        "\n",
        "print(message)"
      ],
      "metadata": {
        "colab": {
          "base_uri": "https://localhost:8080/"
        },
        "id": "Td1Rv61JMu2i",
        "outputId": "53d0f42a-36ca-45f9-f44c-e11007d63a5e"
      },
      "execution_count": null,
      "outputs": [
        {
          "output_type": "stream",
          "name": "stdout",
          "text": [
            "Dear Hiroshi Naka,\n",
            "Welcome Hiroshi Naka to the class of 2022.\n",
            "The head student is very important and respectful to being an example. Hiroshi Naka is proper for this. This role is assigned by Mr. Sattaya Singkul.,\n",
            "\n",
            "Best regards,\n",
            "SuperAI School\n",
            "\n"
          ]
        }
      ]
    },
    {
      "cell_type": "code",
      "source": [
        "dir(test)"
      ],
      "metadata": {
        "id": "3gd0K8i3SNyA",
        "colab": {
          "base_uri": "https://localhost:8080/"
        },
        "outputId": "7c18b2ba-6e8c-47e8-ba3c-1e6deb55f431"
      },
      "execution_count": null,
      "outputs": [
        {
          "output_type": "execute_result",
          "data": {
            "text/plain": [
              "['HeadStudent',\n",
              " 'Person',\n",
              " 'Student',\n",
              " '__builtins__',\n",
              " '__cached__',\n",
              " '__doc__',\n",
              " '__file__',\n",
              " '__loader__',\n",
              " '__name__',\n",
              " '__package__',\n",
              " '__spec__']"
            ]
          },
          "metadata": {},
          "execution_count": 228
        }
      ]
    },
    {
      "cell_type": "markdown",
      "source": [
        "## Technique!"
      ],
      "metadata": {
        "id": "zx7BKRnlg-zm"
      }
    },
    {
      "cell_type": "markdown",
      "source": [
        "Data sturcture speed comparison"
      ],
      "metadata": {
        "id": "eboKaD4oLG8U"
      }
    },
    {
      "cell_type": "code",
      "source": [
        "import time\n",
        "iterations = 100000000\n",
        "start = time.time()\n",
        "mylist = []\n",
        "for i in range(iterations):\n",
        "    mylist.append(i+1)\n",
        "end = time.time()\n",
        "print(end - start)\n",
        "\n",
        "\n",
        "start = time.time()\n",
        "mylist = [i+1 for i in range(iterations)]\n",
        "end = time.time()\n",
        "print(end - start)"
      ],
      "metadata": {
        "id": "RgkHX5nVLGJL",
        "colab": {
          "base_uri": "https://localhost:8080/"
        },
        "outputId": "bc17762d-69bf-4af2-edb0-fb63925b4978"
      },
      "execution_count": null,
      "outputs": [
        {
          "output_type": "stream",
          "name": "stdout",
          "text": [
            "24.304837465286255\n",
            "15.001033067703247\n"
          ]
        }
      ]
    },
    {
      "cell_type": "code",
      "source": [
        "%%timeit\n",
        "dictionary = {'North': 'N', 'South': 'S', 'East': 'E', 'West': 'W'}\n",
        "address = 'North South East West'\n",
        "for key in dictionary:\n",
        "    address = address.replace(key, dictionary[key])"
      ],
      "metadata": {
        "id": "o7jP0z8sLGPf"
      },
      "execution_count": null,
      "outputs": []
    },
    {
      "cell_type": "code",
      "source": [
        "%%timeit\n",
        "tuple_list = [('North', 'N'), ('South', 'S'), ('East', 'E'), ('West', 'W')]\n",
        "address = 'North South East West'\n",
        "for tuple in tuple_list:\n",
        "    address = address.replace(tuple[0], tuple[1])"
      ],
      "metadata": {
        "id": "k8i_RbaBU87_"
      },
      "execution_count": null,
      "outputs": []
    },
    {
      "cell_type": "code",
      "source": [
        "# Try and Exception\n",
        "for i in range(10):\n",
        "  try: print(10/(i))\n",
        "  except: print(\"error\")"
      ],
      "metadata": {
        "id": "iI_HM_XZ3p3g"
      },
      "execution_count": null,
      "outputs": []
    },
    {
      "cell_type": "code",
      "source": [
        "# Try and Exception\n",
        "for i in range(10):\n",
        "  try: print(10/(i))\n",
        "  except Exception as e: print(f\"error of 10/{i}: \", e)"
      ],
      "metadata": {
        "id": "GyCDrHbY3oy6"
      },
      "execution_count": null,
      "outputs": []
    },
    {
      "cell_type": "markdown",
      "metadata": {
        "id": "LkpwbQEVMys2"
      },
      "source": [
        "## Exercises"
      ]
    },
    {
      "cell_type": "markdown",
      "metadata": {
        "id": "ASpVhol9ZXI0"
      },
      "source": [
        "**Exercise 1.** Using a conditional, write the [relu](https://en.wikipedia.org/wiki/Rectifier_(neural_networks)) function defined as follows\n",
        "\n",
        "$\\text{relu}(x) = \\left\\{\n",
        "   \\begin{array}{rl}\n",
        "     x, & \\text{if }  x \\ge 0 \\\\\n",
        "     0, & \\text{otherwise }.\n",
        "   \\end{array}\\right.$"
      ]
    },
    {
      "cell_type": "code",
      "metadata": {
        "id": "jlgyu65SaUvr"
      },
      "source": [
        "def relu(x):\n",
        "  # Write your function here\n",
        "  return\n",
        "\n",
        "assert relu(-3) == 0, \"Incorrect\"\n",
        "print(\"Correct!\")"
      ],
      "execution_count": null,
      "outputs": []
    },
    {
      "cell_type": "markdown",
      "metadata": {
        "id": "Y3so0ceoakIw"
      },
      "source": [
        "**Exercise 2.** Using a foor loop, write a function that computes the [Euclidean norm](https://en.wikipedia.org/wiki/Norm_(mathematics)#Euclidean_norm) of a vector, represented as a list.\n",
        "\n",
        "![image.png](data:image/png;base64,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)"
      ]
    },
    {
      "cell_type": "code",
      "metadata": {
        "id": "-IH-BD41bI1u"
      },
      "source": [
        "def euclidean_norm(vector):\n",
        "  # Write your function here\n",
        "  return\n",
        "\n",
        "my_vector = [0.5, -1.2, 3.3, 4.5]\n",
        "# The result should be roughly 5.729746940310715\n",
        "assert euclidean_norm(my_vector) == 5.729746940310715, \"Incorrect\"\n",
        "print(\"Correct!\")"
      ],
      "execution_count": null,
      "outputs": []
    },
    {
      "cell_type": "markdown",
      "metadata": {
        "id": "SEXIh_e9cW3S"
      },
      "source": [
        "**Exercise 3.** Using a for loop and a conditional, write a function that returns the maximum value in a vector."
      ]
    },
    {
      "cell_type": "code",
      "metadata": {
        "id": "zd9ntMq0cb2e"
      },
      "source": [
        "def vector_maximum(vector):\n",
        "  # Write your function here\n",
        "  return\n",
        "\n",
        "my_vector = [0.5, -1.2, 3.3, 4.5]\n",
        "# The result should be 4.5\n",
        "assert vector_maximum(my_vector) == 4.5, \"Incorrect\"\n",
        "print(\"Correct!\")"
      ],
      "execution_count": null,
      "outputs": []
    },
    {
      "cell_type": "markdown",
      "metadata": {
        "id": "qPAZA4OMc6sT"
      },
      "source": [
        "**Bonus exercise.** if time permits, write a function that sorts a list in ascending order (from smaller to bigger) using the [bubble sort](https://en.wikipedia.org/wiki/Bubble_sort) algorithm.\n",
        "\n",
        "![image.png](data:image/png;base64,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)"
      ]
    },
    {
      "cell_type": "code",
      "metadata": {
        "id": "sBokdJO4dGyf"
      },
      "source": [
        "def bubble_sort(my_list):\n",
        "  # Write your function here\n",
        "  return\n",
        "\n",
        "my_list = [1, -3, 3, 2]\n",
        "# Should return [-3, 1, 2, 3]\n",
        "assert bubble_sort(my_list) == [-3, 1, 2, 3], \"Incorrect result\"\n",
        "print(\"Correct!\")"
      ],
      "execution_count": null,
      "outputs": []
    },
    {
      "cell_type": "markdown",
      "source": [
        "**Bonus exercise.** if time permits, create the SuperAIMail class and Student Class for any requirement.\n",
        "\n",
        "\n",
        "สร้างคลาส 3 คลาส ประกอบด้วย Person, Student, SuperAIMail "
      ],
      "metadata": {
        "id": "dW8gN-ZLYLzb"
      }
    },
    {
      "cell_type": "markdown",
      "source": [
        "create Person class\n",
        "- Person ใช้เก็บข้อมูลบุคคลพื้นฐาน ประกอบด้วย firstname สำหรับชื่อจริง lastname คือ นามสกุล โดยทุกครั้งที่มีการเพิ่มรายชื่อเข้าไปใหม่จะทำการสร้าง user_id จากบุคคลนั้นผ่านการนำ ชื่อจริง มาต่อกับ นามสกุล ผ่าน \"_\" โดยใช้ function userid_generate\n",
        "- function getname ใน Person class จะทำการ return ค่าเป็น ชื่อจริงและนามสกุล ในรูปแบบ tuple\n",
        "\n",
        "create Student class\n",
        "- Student ใช้เก็บข้อมูลคล้าย Person แต่เพิ่มข้อมูลเกี่ยวกับประวัติการศึกษาเข้าไป ผ่าน property edu_degree, edu_university, edu_year โดยทุุก property ต้องมี type เป็น string เท่านั้น หาก เป็น type อื่นให้ขึ้น error ว่า \"Educational info supports only string type, please assign with string\"\n",
        "- โดยทุกครั้งที่มีการเพิ่มประวัติการศึกษาเข้าไป จะทำการเก็บประวัติไว้ใน dict ชื่อว่า edu_info โดยกำหนดให้ ในหนึ่ง edu_year อาจมีมหาลัยมากกว่าหนึ่งรายละเอียด ซึ่งการเพิ่มดังกล่าวสามารถทำได้ผ่าน function add_edu_info\n",
        "- สามารถเรียกดู edu_info ได้ ผ่าน function get_edu_info\n",
        "\n",
        "ตัวอย่างผลลัพธ์ของ get_edu_info()\n",
        "- ```{\"2020-2022\":\n",
        "[{\"edu_degree\":\"M.Sc.\", \"edu_university\": \"Thailand\"},\n",
        "{\"edu_degree\":\"M.Sc.\", \"edu_university\": \"KUBDC\"}]}```"
      ],
      "metadata": {
        "id": "HAKvnvW6YMBH"
      }
    },
    {
      "cell_type": "code",
      "source": [
        "class Person:\n",
        "  def __init__(self, fname, lname):\n",
        "    self.firstname = fname\n",
        "    self.lastname = lname\n",
        "    self.user_id = None\n",
        "    # Write your code here\n",
        "\n",
        "  def getname(self):\n",
        "    # Write your code here\n",
        "  \n",
        "  def userid_generate(self):\n",
        "    # Write your code here\n",
        "\n",
        "\n",
        "class Student(Person):\n",
        "  def __init__(self, fname, lname, edu_degree, edu_university, edu_year):\n",
        "    super().__init__(fname, lname)\n",
        "    self.edu_info = dict()\n",
        "    # Write your code here\n",
        "  \n",
        "  def add_edu_info(self, edu_year, edu_degree, edu_university):\n",
        "    # Write your code here\n",
        "\n",
        "  def get_edu_info(self):\n",
        "    # Write your code here"
      ],
      "metadata": {
        "id": "1QmYHGJ-YmFt"
      },
      "execution_count": null,
      "outputs": []
    },
    {
      "cell_type": "markdown",
      "source": [
        "create SuperAIRegister\n",
        "-  SuperAIMail เป็น class สำหรับการสร้างข้อความจากข้อมูลที่มีมาแล้วจาก Student class โดยทำผ่าน function respond_mail โดยจะมีข้อความดังนี้ \"ยินดีต้อนรับผู้เข้าแข่งขัน [ชื่อ นามสกุล] ทาง SuperAI ยินดีอย่างยิ่งสำหรับการสมัครของท่าน ท่านมีประสบการณ์การศึกษามากมายเป็นจำนวนทั้งหมด [จำนวน degree] วุฒิ เป็นจำนวนปีทั้งหมด [จำนวนปีที่เคยศึกษา] ปี ซึ่งมีจำนวนวุฒิที่ไม่ซ้ำกันถึง [จำนวนวุฒิที่ไม่ซ้ำกัน] วุฒิ\"\n",
        "- หากจำนวนปีที่เคยศึกษาต่ำกว่า 2 ปี function respond_mail จะมีข้อความแทนว่า \"ขอแสดงความเสียใจด้วย คุณ [ชื่อ นามสกุล] มีจำนวนปีการศึกษาไม่พอ คุณมีเพียง [จำนวนปีที่เคยศึกษา] ปีเท่านั้น\""
      ],
      "metadata": {
        "id": "u0pPE_wbYMJM"
      }
    },
    {
      "cell_type": "code",
      "source": [
        "class SuperAIMail:\n",
        "  def __init__(self, student_obj : Student):\n",
        "    # Write your code here\n",
        "\n",
        "  def get_student_info(self):\n",
        "    # Write your code here\n",
        "\n",
        "  def respond_mail(self):\n",
        "    # Write your code here"
      ],
      "metadata": {
        "id": "EAdwZWK1YoFz"
      },
      "execution_count": null,
      "outputs": []
    },
    {
      "cell_type": "code",
      "source": [
        "student_info = Student(fname=\"Somsri\", lname=\"Homsina\", edu_degree=\"M.Sc.\", edu_university=\"Lably\", edu_year=\"2019-2022\")\n",
        "student_info.add_edu_info(edu_year=\"2022-2022\", edu_degree=\"M.ROV\", edu_university=\"Garena\")\n",
        "student_info.add_edu_info(edu_year=\"2019-2022\", edu_degree=\"M.Luck\", edu_university=\"Heaven\")\n",
        "student_info.add_edu_info(edu_year=\"2019-2022\", edu_degree=\"B.Luck\", edu_university=\"Heaven\")\n",
        "\n",
        "superai_info = SuperAIMail(student_info)\n",
        "\n",
        "print(\"Get Name: \", student_info.getname())\n",
        "print(\"user_id: \", student_info.user_id)\n",
        "print(\"Educational Info: \", student_info.get_edu_info())\n",
        "print(\"Sync Status Info: \", superai_info.get_student_info().get_edu_info() == student_info.get_edu_info())\n",
        "print(\"Respond: \", superai_info.respond_mail())"
      ],
      "metadata": {
        "id": "64WkAZxnMeV-"
      },
      "execution_count": null,
      "outputs": []
    },
    {
      "cell_type": "code",
      "source": [
        "student_info.add_edu_info(edu_year=2022, edu_degree=\"B.Luck\", edu_university=\"Heaven\") # should be error"
      ],
      "metadata": {
        "id": "1i967Tq-PA2n"
      },
      "execution_count": null,
      "outputs": []
    },
    {
      "cell_type": "markdown",
      "source": [
        "สุดท้ายแล้ว ให้ลองนำ Class Person, Student, SuperAIMail มาเรียกใช้ผ่านรูปแบบ module"
      ],
      "metadata": {
        "id": "p0dccgfjRZ49"
      }
    },
    {
      "cell_type": "code",
      "source": [
        "%%writefile superaimail.py\n",
        "\n",
        "\n",
        "\n"
      ],
      "metadata": {
        "id": "KOrqVN8hRYiQ"
      },
      "execution_count": null,
      "outputs": []
    },
    {
      "cell_type": "code",
      "source": [
        "import superaimail as sm\n",
        "import importlib\n",
        "importlib.reload(sm) # for reload module, if your module is updated!\n",
        "\n",
        "student_info = sm.Student(fname=\"Somsri\", lname=\"Homsina\", edu_degree=\"M.Sc.\", edu_university=\"Lably\", edu_year=\"2019-2022\")\n",
        "student_info.add_edu_info(edu_year=\"2022-2022\", edu_degree=\"M.ROV\", edu_university=\"Garena\")\n",
        "student_info.add_edu_info(edu_year=\"2019-2022\", edu_degree=\"M.Luck\", edu_university=\"Heaven\")\n",
        "student_info.add_edu_info(edu_year=\"2019-2022\", edu_degree=\"B.Luck\", edu_university=\"Heaven\")\n",
        "\n",
        "superai_info = sm.SuperAIMail(student_info)\n",
        "\n",
        "print(\"Get Name: \", student_info.getname())\n",
        "print(\"user_id: \", student_info.user_id)\n",
        "print(\"Educational Info: \", student_info.get_edu_info())\n",
        "print(\"Sync Status Info: \", superai_info.get_student_info().get_edu_info() == student_info.get_edu_info())\n",
        "print(\"Respond: \", superai_info.respond_mail())"
      ],
      "metadata": {
        "id": "33yIVt63R2v8"
      },
      "execution_count": null,
      "outputs": []
    },
    {
      "cell_type": "markdown",
      "metadata": {
        "id": "jDxjvtEEM1vg"
      },
      "source": [
        "## Going further"
      ]
    },
    {
      "cell_type": "markdown",
      "metadata": {
        "id": "wRkmvzf-PdEp"
      },
      "source": [
        "Clearly, it is impossible to cover all the language features in this short introduction. To go further, we recommend the following resources:"
      ]
    },
    {
      "cell_type": "markdown",
      "metadata": {
        "id": "n8nbPoWclRlH"
      },
      "source": [
        "\n",
        "\n",
        "*   List of Python [tutorials](https://wiki.python.org/moin/BeginnersGuide/Programmers)\n",
        "* Four-hour [course](https://www.youtube.com/watch?v=rfscVS0vtbw) on Youtube\n",
        "\n"
      ]
    },
    {
      "cell_type": "markdown",
      "metadata": {
        "id": "6X4WJo3iM6m9"
      },
      "source": [
        "# NumPy"
      ]
    },
    {
      "cell_type": "markdown",
      "metadata": {
        "id": "_H3bNbLloXCY"
      },
      "source": [
        "NumPy is a popular library for storing arrays of numbers and performing computations on them. Not only this enables to write often more succint code, this also makes the code faster, since most NumPy routines are implemented in C for speed."
      ]
    },
    {
      "cell_type": "markdown",
      "metadata": {
        "id": "M7tI3XLhqwSX"
      },
      "source": [
        "To use NumPy in your program, you need to import it as follows"
      ]
    },
    {
      "cell_type": "code",
      "metadata": {
        "id": "phSPPyfyq2gX"
      },
      "source": [
        "import numpy as np"
      ],
      "execution_count": null,
      "outputs": []
    },
    {
      "cell_type": "markdown",
      "metadata": {
        "id": "9secCfFLNHEE"
      },
      "source": [
        "## Array creation\n",
        "\n"
      ]
    },
    {
      "cell_type": "markdown",
      "metadata": {
        "id": "LSS2wEnkq97n"
      },
      "source": [
        "NumPy arrays can be created from Python lists"
      ]
    },
    {
      "cell_type": "code",
      "metadata": {
        "id": "Hfeg286yrLvJ"
      },
      "source": [
        "my_array = np.array([1, 2, 3])\n",
        "my_array"
      ],
      "execution_count": null,
      "outputs": []
    },
    {
      "cell_type": "markdown",
      "metadata": {
        "id": "Sy2EvrxFriAG"
      },
      "source": [
        "NumPy supports array of arbitrary dimension. For example, we can create two-dimensional arrays (e.g. to store a matrix) as follows"
      ]
    },
    {
      "cell_type": "code",
      "metadata": {
        "id": "wM-GYVMsrzNs"
      },
      "source": [
        "my_2d_array = np.array([[1, 2, 3], [4, 5, 6]])\n",
        "my_2d_array"
      ],
      "execution_count": null,
      "outputs": []
    },
    {
      "cell_type": "markdown",
      "metadata": {
        "id": "-kZMzYsAsVAc"
      },
      "source": [
        "We can access individual elements of a 2d-array using two indices"
      ]
    },
    {
      "cell_type": "code",
      "metadata": {
        "id": "4q8X86BbscPd"
      },
      "source": [
        "my_2d_array[1, 2]"
      ],
      "execution_count": null,
      "outputs": []
    },
    {
      "cell_type": "markdown",
      "metadata": {
        "id": "OfVIKyxkTh0p"
      },
      "source": [
        "We can also access rows"
      ]
    },
    {
      "cell_type": "code",
      "metadata": {
        "id": "CrKnDAtyTlYe"
      },
      "source": [
        "my_2d_array[1]"
      ],
      "execution_count": null,
      "outputs": []
    },
    {
      "cell_type": "markdown",
      "metadata": {
        "id": "hskLBCp9ToCG"
      },
      "source": [
        "and columns"
      ]
    },
    {
      "cell_type": "code",
      "metadata": {
        "id": "MOOFsLHhTozX"
      },
      "source": [
        "my_2d_array[:, 2]"
      ],
      "execution_count": null,
      "outputs": []
    },
    {
      "cell_type": "markdown",
      "metadata": {
        "id": "keWK_5PHr9Q2"
      },
      "source": [
        "Arrays have a `shape` attribute"
      ]
    },
    {
      "cell_type": "code",
      "metadata": {
        "id": "5QIo7l1Yr8m7"
      },
      "source": [
        "print(my_array.shape)\n",
        "print(my_2d_array.shape)"
      ],
      "execution_count": null,
      "outputs": []
    },
    {
      "cell_type": "markdown",
      "metadata": {
        "id": "LmX0EDWVsoDY"
      },
      "source": [
        "Contrary to Python lists, NumPy arrays must have a type and all elements of the array must have the same type."
      ]
    },
    {
      "cell_type": "code",
      "metadata": {
        "id": "FZjOowkls57o"
      },
      "source": [
        "my_array.dtype"
      ],
      "execution_count": null,
      "outputs": []
    },
    {
      "cell_type": "markdown",
      "metadata": {
        "id": "i5AvLdf7tGnZ"
      },
      "source": [
        "The main types are `int32` (32-bit integers), `int64` (64-bit integers), `float32` (32-bit real values) and `float64` (64-bit real values)."
      ]
    },
    {
      "cell_type": "markdown",
      "metadata": {
        "id": "w8ym2qZCt9Nm"
      },
      "source": [
        "The `dtype` can be specified when creating the array"
      ]
    },
    {
      "cell_type": "code",
      "metadata": {
        "id": "gXpM_FqruCVv"
      },
      "source": [
        "my_array = np.array([1, 2, 3], dtype=np.float64)\n",
        "my_array.dtype"
      ],
      "execution_count": null,
      "outputs": []
    },
    {
      "cell_type": "markdown",
      "metadata": {
        "id": "WueaRIONuTdS"
      },
      "source": [
        "We can create arrays of all zeros using"
      ]
    },
    {
      "cell_type": "code",
      "metadata": {
        "id": "jbD8N1UauK8r"
      },
      "source": [
        "zero_array = np.zeros((2, 3))\n",
        "zero_array"
      ],
      "execution_count": null,
      "outputs": []
    },
    {
      "cell_type": "markdown",
      "metadata": {
        "id": "vn5go6qoudo4"
      },
      "source": [
        "and similarly for all ones using `ones` instead of `zeros`."
      ]
    },
    {
      "cell_type": "markdown",
      "metadata": {
        "id": "1kCRlhLJuvZ6"
      },
      "source": [
        "We can create a range of values using"
      ]
    },
    {
      "cell_type": "code",
      "metadata": {
        "id": "EcQXDeEmuxpO"
      },
      "source": [
        "np.arange(5)"
      ],
      "execution_count": null,
      "outputs": []
    },
    {
      "cell_type": "markdown",
      "metadata": {
        "id": "ZvJECk6Iu3uF"
      },
      "source": [
        "or specifying the starting point"
      ]
    },
    {
      "cell_type": "code",
      "metadata": {
        "id": "Pk3UzL3du_f8"
      },
      "source": [
        "np.arange(3, 5)"
      ],
      "execution_count": null,
      "outputs": []
    },
    {
      "cell_type": "markdown",
      "metadata": {
        "id": "f1JtqFSivJKG"
      },
      "source": [
        "Another useful routine is `linspace` for creating linearly spaced values in an interval. For instance, to create 10 values in `[0, 1]`, we can use"
      ]
    },
    {
      "cell_type": "code",
      "metadata": {
        "id": "udHHjGAHvOQM"
      },
      "source": [
        "np.linspace(0, 1, 10)"
      ],
      "execution_count": null,
      "outputs": []
    },
    {
      "cell_type": "markdown",
      "metadata": {
        "id": "WbcxAKobvgUT"
      },
      "source": [
        "Another important operation is `reshape`, for changing the shape of an array"
      ]
    },
    {
      "cell_type": "code",
      "metadata": {
        "id": "4FPzTuDlvlLO"
      },
      "source": [
        "my_array = np.array([1, 2, 3, 4, 5, 6])\n",
        "my_array.reshape(3, 2)"
      ],
      "execution_count": null,
      "outputs": []
    },
    {
      "cell_type": "markdown",
      "metadata": {
        "id": "G-QR80_g3N9Y"
      },
      "source": [
        "Play with these operations and make sure you understand them well."
      ]
    },
    {
      "cell_type": "markdown",
      "metadata": {
        "id": "f9B0iCBlmfeY"
      },
      "source": [
        "## Basic operations"
      ]
    },
    {
      "cell_type": "markdown",
      "metadata": {
        "id": "elQGgkqDxKLV"
      },
      "source": [
        "In NumPy, we express computations directly over arrays. This makes the code much more succint."
      ]
    },
    {
      "cell_type": "markdown",
      "metadata": {
        "id": "hkCU1T8ixghX"
      },
      "source": [
        "Arithmetic operations can be performed directly over arrays. For instance, assuming two arrays have a compatible shape, we can add them as follows"
      ]
    },
    {
      "cell_type": "code",
      "metadata": {
        "id": "4AoiRq42x5mI"
      },
      "source": [
        "array_a = np.array([1, 2, 3])\n",
        "array_b = np.array([4, 5, 6])\n",
        "array_a + array_b"
      ],
      "execution_count": null,
      "outputs": []
    },
    {
      "cell_type": "markdown",
      "metadata": {
        "id": "SyPqME2EyD4x"
      },
      "source": [
        "Compare this with the equivalent computation using a for loop"
      ]
    },
    {
      "cell_type": "code",
      "metadata": {
        "id": "HxRFA_U2yfI-"
      },
      "source": [
        "array_out = np.zeros_like(array_a)\n",
        "for i in range(len(array_a)):\n",
        "  array_out[i] = array_a[i] + array_b[i]\n",
        "array_out"
      ],
      "execution_count": null,
      "outputs": []
    },
    {
      "cell_type": "markdown",
      "metadata": {
        "id": "i2a-apX-zlPN"
      },
      "source": [
        "Not only this code is more verbose, it will also run much more slowly."
      ]
    },
    {
      "cell_type": "markdown",
      "metadata": {
        "id": "Qdn8MwpR0wX_"
      },
      "source": [
        "In NumPy, functions that operates on arrays in an element-wise fashion are called [universal functions](https://numpy.org/doc/stable/reference/ufuncs.html). For instance, this is the case of `np.sin`"
      ]
    },
    {
      "cell_type": "code",
      "metadata": {
        "id": "JoanjiMu1BH5"
      },
      "source": [
        "np.sin(array_a)"
      ],
      "execution_count": null,
      "outputs": []
    },
    {
      "cell_type": "markdown",
      "metadata": {
        "id": "jHljrPXg5h8W"
      },
      "source": [
        "Vector inner product can be performed using `np.dot`"
      ]
    },
    {
      "cell_type": "code",
      "metadata": {
        "id": "TphR8oIx5ob9"
      },
      "source": [
        "np.dot(array_a, array_b) # 1(4) + 2(5) + 3(6) = 4+10+18 = 32"
      ],
      "execution_count": null,
      "outputs": []
    },
    {
      "cell_type": "markdown",
      "metadata": {
        "id": "lHInOiSW50OR"
      },
      "source": [
        "When the two arguments to `np.dot` are both 2d arrays, `np.dot` becomes matrix multiplication"
      ]
    },
    {
      "cell_type": "code",
      "metadata": {
        "id": "QRbpbhPP6Up0"
      },
      "source": [
        "array_A = np.random.rand(5, 3)\n",
        "array_B = np.random.randn(3, 4)\n",
        "np.dot(array_A, array_B)"
      ],
      "execution_count": null,
      "outputs": []
    },
    {
      "cell_type": "markdown",
      "metadata": {
        "id": "odVawD9m6gwv"
      },
      "source": [
        "Matrix transpose can be done using `.transpose()` or `.T` for short"
      ]
    },
    {
      "cell_type": "code",
      "metadata": {
        "id": "gvPe_JAO6mvF"
      },
      "source": [
        "array_A.T"
      ],
      "execution_count": null,
      "outputs": []
    },
    {
      "cell_type": "markdown",
      "metadata": {
        "id": "JlWt3oFnE_E-"
      },
      "source": [
        "## Slicing and masking"
      ]
    },
    {
      "cell_type": "markdown",
      "metadata": {
        "id": "e4aKKe7bFA65"
      },
      "source": [
        "Like Python lists, NumPy arrays support slicing"
      ]
    },
    {
      "cell_type": "code",
      "metadata": {
        "id": "0kPhv2xcF1TP"
      },
      "source": [
        "np.arange(10)[5:]"
      ],
      "execution_count": null,
      "outputs": []
    },
    {
      "cell_type": "markdown",
      "metadata": {
        "id": "ITu2Wy4-GB2G"
      },
      "source": [
        "We can also select only certain elements from the array"
      ]
    },
    {
      "cell_type": "code",
      "metadata": {
        "id": "8tlZzTB6GEyw"
      },
      "source": [
        "x = np.arange(10)\n",
        "mask = x >= 5\n",
        "x[mask]"
      ],
      "execution_count": null,
      "outputs": []
    },
    {
      "cell_type": "markdown",
      "metadata": {
        "id": "NlGForCimjBL"
      },
      "source": [
        "## Exercises"
      ]
    },
    {
      "cell_type": "markdown",
      "metadata": {
        "id": "Ur1UlSFPTu6O"
      },
      "source": [
        "**Exercise 1.** Create a 3d array of shape (2, 2, 2), containing 8 values. Access individual elements and slices."
      ]
    },
    {
      "cell_type": "code",
      "metadata": {
        "id": "v1ed4-vLUWXQ"
      },
      "source": [],
      "execution_count": null,
      "outputs": []
    },
    {
      "cell_type": "markdown",
      "metadata": {
        "id": "s_ksfCDJzyxI"
      },
      "source": [
        "**Exercise 2.** Rewrite the relu function (see Python section) using [np.maximum](https://numpy.org/doc/stable/reference/generated/numpy.maximum.html). Check that it works on both a single value and on an array of values."
      ]
    },
    {
      "cell_type": "code",
      "metadata": {
        "id": "QtSTxH5Dz6f8"
      },
      "source": [
        "def relu_numpy(x):\n",
        "  return\n",
        "\n",
        "relu_numpy(np.array([1, -3, 2.5]))"
      ],
      "execution_count": null,
      "outputs": []
    },
    {
      "cell_type": "markdown",
      "metadata": {
        "id": "wggUjpyRz7fb"
      },
      "source": [
        "**Exercise 3.** Rewrite the Euclidean norm of a vector (1d array) using NumPy (without for loop)"
      ]
    },
    {
      "cell_type": "code",
      "metadata": {
        "id": "p5BLcHOD0Bhy"
      },
      "source": [
        "def euclidean_norm_numpy(x):\n",
        "  return\n",
        "\n",
        "my_vector = np.array([0.5, -1.2, 3.3, 4.5])\n",
        "euclidean_norm_numpy(my_vector)"
      ],
      "execution_count": null,
      "outputs": []
    },
    {
      "cell_type": "markdown",
      "metadata": {
        "id": "01IteVJ60Il2"
      },
      "source": [
        "**Exercise 4.** Write a function that computes the Euclidean norms of a matrix (2d array) in a row-wise fashion. Hint: use the `axis` argument of [np.sum](https://numpy.org/doc/stable/reference/generated/numpy.sum.html)."
      ]
    },
    {
      "cell_type": "code",
      "metadata": {
        "id": "at5lWRNM0SVG"
      },
      "source": [
        "def euclidean_norm_2d(X):\n",
        "  return\n",
        "\n",
        "my_matrix = np.array([[0.5, -1.2, 4.5],\n",
        "                      [-3.2, 1.9, 2.7]])\n",
        "# Should return an array of size 2.\n",
        "euclidean_norm_2d(my_matrix)"
      ],
      "execution_count": null,
      "outputs": []
    },
    {
      "cell_type": "markdown",
      "metadata": {
        "id": "yd1ZoByo436x"
      },
      "source": [
        "**Exercise 5.** Compute the mean value of the features in the [iris dataset](https://scikit-learn.org/stable/modules/generated/sklearn.datasets.load_iris.html). Hint: use the `axis` argument on [np.mean](https://numpy.org/doc/stable/reference/generated/numpy.mean.html)."
      ]
    },
    {
      "cell_type": "code",
      "metadata": {
        "id": "fYFVobkP5JK6"
      },
      "source": [
        "from sklearn.datasets import load_iris\n",
        "X, y = load_iris(return_X_y=True)\n",
        "\n",
        "# Result should be an array of size 4."
      ],
      "execution_count": null,
      "outputs": []
    },
    {
      "cell_type": "markdown",
      "metadata": {
        "id": "1FDs9zX6mpoX"
      },
      "source": [
        "## Going further"
      ]
    },
    {
      "cell_type": "markdown",
      "metadata": {
        "id": "hFP61Iztmr9Q"
      },
      "source": [
        "* NumPy [reference](https://numpy.org/doc/stable/reference/)\n",
        "* SciPy [lectures](https://scipy-lectures.org/)\n",
        "*   One-hour [tutorial](https://www.youtube.com/watch?v=QUT1VHiLmmI) on Youtube \n",
        "\n"
      ]
    },
    {
      "cell_type": "markdown",
      "metadata": {
        "id": "7Jt6T3kJ8I2T"
      },
      "source": [
        "# Matplotlib"
      ]
    },
    {
      "cell_type": "markdown",
      "metadata": {
        "id": "kQX8TiEOALkQ"
      },
      "source": [
        "## Basic plots"
      ]
    },
    {
      "cell_type": "markdown",
      "metadata": {
        "id": "REYwc9Va8UTg"
      },
      "source": [
        "Matplotlib is a plotting library for Python."
      ]
    },
    {
      "cell_type": "markdown",
      "metadata": {
        "id": "Eom7t-m6-Uzb"
      },
      "source": [
        "We start with a rudimentary plotting example."
      ]
    },
    {
      "cell_type": "code",
      "metadata": {
        "id": "g21e5Ncm927z"
      },
      "source": [
        "from matplotlib import pyplot as plt\n",
        "\n",
        "x_values = np.linspace(-3, 3, 100)\n",
        "\n",
        "plt.figure()\n",
        "plt.plot(x_values, np.sin(x_values), label=\"Sinusoid\")\n",
        "plt.xlabel(\"x\")\n",
        "plt.ylabel(\"sin(x)\")\n",
        "plt.title(\"Matplotlib example\")\n",
        "plt.legend(loc=\"upper left\")\n",
        "plt.show()"
      ],
      "execution_count": null,
      "outputs": []
    },
    {
      "cell_type": "markdown",
      "metadata": {
        "id": "ltvlLwXF-eAH"
      },
      "source": [
        "We continue with a rudimentary scatter plot example. This example displays samples from the [iris dataset](https://scikit-learn.org/stable/modules/generated/sklearn.datasets.load_iris.html) using the first two features. Colors indicate class membership (there are 3 classes)."
      ]
    },
    {
      "cell_type": "code",
      "metadata": {
        "id": "sEzcJAmy-hbK"
      },
      "source": [
        "from sklearn.datasets import load_iris\n",
        "X, y = load_iris(return_X_y=True)\n",
        "\n",
        "X_class0 = X[y == 0]\n",
        "X_class1 = X[y == 1]\n",
        "X_class2 = X[y == 2]\n",
        "\n",
        "plt.figure()\n",
        "plt.scatter(X_class0[:, 0], X_class0[:, 1], label=\"Class 0\", color=\"C0\")\n",
        "plt.scatter(X_class1[:, 0], X_class1[:, 1], label=\"Class 1\", color=\"C1\")\n",
        "plt.scatter(X_class2[:, 0], X_class2[:, 1], label=\"Class 2\", color=\"C2\")\n",
        "plt.show()"
      ],
      "execution_count": null,
      "outputs": []
    },
    {
      "cell_type": "markdown",
      "metadata": {
        "id": "5vjln9qwAc3M"
      },
      "source": [
        "We see that samples belonging to class 0 can be linearly separated from the rest using only the first two features."
      ]
    },
    {
      "cell_type": "markdown",
      "metadata": {
        "id": "uVWuIUs2AQ5a"
      },
      "source": [
        "## Exercises\n",
        "\n"
      ]
    },
    {
      "cell_type": "markdown",
      "metadata": {
        "id": "1X6-g6zgCwJd"
      },
      "source": [
        "**Exercise 1.** Plot the relu and the [softplus](https://en.wikipedia.org/wiki/Rectifier_(neural_networks)#Softplus) functions on the same graph."
      ]
    },
    {
      "cell_type": "code",
      "metadata": {
        "id": "Ob6HZUX0DJ8y"
      },
      "source": [],
      "execution_count": null,
      "outputs": []
    },
    {
      "cell_type": "markdown",
      "metadata": {
        "id": "vpRGfz0aDW3l"
      },
      "source": [
        "What is the main difference between the two functions?"
      ]
    },
    {
      "cell_type": "markdown",
      "metadata": {
        "id": "JjDeIufRAYVL"
      },
      "source": [
        "**Exercise 2.** Repeat the same scatter plot but using the [digits dataset](https://scikit-learn.org/stable/modules/generated/sklearn.datasets.load_digits.html) instead."
      ]
    },
    {
      "cell_type": "code",
      "metadata": {
        "id": "-JU3TXCBBB0c"
      },
      "source": [
        "from sklearn.datasets import load_digits\n",
        "X, y = load_digits(return_X_y=True)"
      ],
      "execution_count": null,
      "outputs": []
    },
    {
      "cell_type": "markdown",
      "metadata": {
        "id": "w7wPWdmXBQA2"
      },
      "source": [
        "Are pixel values good features for classifying samples?"
      ]
    },
    {
      "cell_type": "markdown",
      "metadata": {
        "id": "dYM-oV1jD3RV"
      },
      "source": [
        "## Going further\n",
        "\n",
        "*  Official [tutorial](https://matplotlib.org/tutorials/introductory/pyplot.html)\n",
        "* [Tutorial](https://www.youtube.com/watch?v=qErBw-R2Ybk) on Youtube"
      ]
    }
  ]
}